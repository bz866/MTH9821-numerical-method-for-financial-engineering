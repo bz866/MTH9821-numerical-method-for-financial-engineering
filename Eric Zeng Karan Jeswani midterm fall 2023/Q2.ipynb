{
 "cells": [
  {
   "cell_type": "code",
   "execution_count": 1,
   "id": "64a6d7ef",
   "metadata": {},
   "outputs": [],
   "source": [
    "import numpy as np\n",
    "from scipy.stats import norm\n",
    "from scipy.optimize import brentq\n"
   ]
  },
  {
   "cell_type": "code",
   "execution_count": 6,
   "id": "790c5e9e",
   "metadata": {},
   "outputs": [],
   "source": [
    "import math\n",
    "from scipy.stats import norm\n",
    "from scipy.optimize import fsolve"
   ]
  },
  {
   "cell_type": "code",
   "execution_count": 7,
   "id": "b507b0df",
   "metadata": {},
   "outputs": [],
   "source": [
    "S0 = 62\n",
    "K = 66\n",
    "r = 0.0450\n",
    "q = 0.015\n",
    "T = 10/12\n",
    "Vm = 6.36"
   ]
  },
  {
   "cell_type": "code",
   "execution_count": 8,
   "id": "fa4f1c77",
   "metadata": {},
   "outputs": [],
   "source": [
    "def blackScholesVanilla(K , T , S , v , q , r , CP ):\n",
    "    phi = 1 if CP == 'C' else -1\n",
    "    dp = (1/(v*math.sqrt(T)))*(math.log(S/K) + ((r - q + (v**2)/2)*T) )\n",
    "    dm = dp - (v*math.sqrt(T))\n",
    "    vBS = phi*((norm.cdf(phi*dp)*(S*math.exp(-q*T))) - ((norm.cdf(phi*dm))*(K*math.exp(-r*T))))\n",
    "    return vBS"
   ]
  },
  {
   "cell_type": "code",
   "execution_count": 9,
   "id": "ad121db0",
   "metadata": {},
   "outputs": [],
   "source": [
    "def calculateIV(v , K , T , S , q , r , CP , Vm):\n",
    "    \n",
    "    modelV = blackScholesVanilla(K , T , S , v , q , r , CP )\n",
    "    eq = modelV - Vm\n",
    "    return eq"
   ]
  },
  {
   "cell_type": "code",
   "execution_count": 12,
   "id": "3675789a",
   "metadata": {},
   "outputs": [
    {
     "data": {
      "text/plain": [
       "array([0.22503153])"
      ]
     },
     "execution_count": 12,
     "metadata": {},
     "output_type": "execute_result"
    }
   ],
   "source": [
    "IV = fsolve(calculateIV , x0 = 0.25 , args =( K , T , S0 , q, r , 'P', Vm))\n",
    "IV"
   ]
  },
  {
   "cell_type": "code",
   "execution_count": null,
   "id": "2aead2fa",
   "metadata": {},
   "outputs": [],
   "source": []
  },
  {
   "cell_type": "code",
   "execution_count": null,
   "id": "3de29036",
   "metadata": {},
   "outputs": [],
   "source": []
  },
  {
   "cell_type": "code",
   "execution_count": 19,
   "id": "c1720a43",
   "metadata": {},
   "outputs": [
    {
     "name": "stdout",
     "output_type": "stream",
     "text": [
      "Implied Volatility for Put: 0.2250\n"
     ]
    }
   ],
   "source": [
    "import numpy as np\n",
    "from scipy.stats import norm\n",
    "from scipy.optimize import brentq\n",
    "\n",
    "def monte_carlo_put_price(S, K, r, q, sigma, T, num_simulations=10000000):\n",
    "    dt = T\n",
    "    Z = np.random.randn(num_simulations)\n",
    "    S_T = S * np.exp((r - q - 0.5 * sigma**2) * dt + sigma * np.sqrt(dt) * Z)\n",
    "    payoffs = np.maximum(K - S_T, 0)\n",
    "    price = np.exp(-r * T) * np.mean(payoffs)\n",
    "    return price\n",
    "\n",
    "def implied_volatility_put(target_price, S, K, r, q, T):\n",
    "    def loss_function(sigma):\n",
    "        return monte_carlo_put_price(S, K, r, q, sigma, T) - target_price\n",
    "    \n",
    "    iv = brentq(loss_function, 0.001, 5.0)\n",
    "    return iv\n",
    "\n",
    "# Example:\n",
    "K = 66\n",
    "S = 62\n",
    "q = 0.015\n",
    "target_price = 6.36\n",
    "r = 0.045\n",
    "T = 10/12  # Time to maturity in years\n",
    "\n",
    "iv_put = implied_volatility_put(target_price, S, K, r, q, T)\n",
    "print(f\"Implied Volatility for Put: {iv_put:.4f}\")"
   ]
  },
  {
   "cell_type": "code",
   "execution_count": null,
   "id": "0dd9b678",
   "metadata": {},
   "outputs": [],
   "source": []
  },
  {
   "cell_type": "code",
   "execution_count": null,
   "id": "543759cf",
   "metadata": {},
   "outputs": [],
   "source": []
  },
  {
   "cell_type": "code",
   "execution_count": null,
   "id": "9ac54165",
   "metadata": {},
   "outputs": [],
   "source": []
  }
 ],
 "metadata": {
  "kernelspec": {
   "display_name": "Python 3 (ipykernel)",
   "language": "python",
   "name": "python3"
  },
  "language_info": {
   "codemirror_mode": {
    "name": "ipython",
    "version": 3
   },
   "file_extension": ".py",
   "mimetype": "text/x-python",
   "name": "python",
   "nbconvert_exporter": "python",
   "pygments_lexer": "ipython3",
   "version": "3.11.3"
  }
 },
 "nbformat": 4,
 "nbformat_minor": 5
}
