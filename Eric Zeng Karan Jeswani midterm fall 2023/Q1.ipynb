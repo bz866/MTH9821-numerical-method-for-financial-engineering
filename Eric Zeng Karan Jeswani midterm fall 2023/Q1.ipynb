{
 "cells": [
  {
   "cell_type": "code",
   "execution_count": null,
   "id": "5d4e586f",
   "metadata": {},
   "outputs": [],
   "source": [
    "#LCG\n",
    "# Inverse Transform\n"
   ]
  },
  {
   "cell_type": "code",
   "execution_count": 26,
   "id": "9898876b",
   "metadata": {},
   "outputs": [],
   "source": [
    "import numpy as np\n",
    "import math"
   ]
  },
  {
   "cell_type": "code",
   "execution_count": 27,
   "id": "dbb64a69",
   "metadata": {},
   "outputs": [],
   "source": [
    "def LCG(N):\n",
    "    uniformSamples = []\n",
    "    x = 1\n",
    "    a = 39373\n",
    "    c = 0\n",
    "    k = (2**31) - 1\n",
    "    \n",
    "    for i in range(N):\n",
    "        x = ((a*x) + c)%k\n",
    "        uniformSamples.append(x/k)\n",
    "    \n",
    "    return uniformSamples"
   ]
  },
  {
   "cell_type": "code",
   "execution_count": 28,
   "id": "ccac9a0d",
   "metadata": {},
   "outputs": [],
   "source": [
    "def beaselySpringerMoro(u):\n",
    "    # Constants\n",
    "    a = [2.50662823884, -18.61500062529, 41.39119773534, -25.44106049637]\n",
    "    b = [-8.47351093090, 23.08336743743, -21.06224101826, 3.13082909833]\n",
    "    c = [0.3374754822726147, 0.9761690190917186, 0.1607979714918209,\n",
    "         0.0276438810333863, 0.0038405729373609, 0.0003951896511919,\n",
    "         0.0000321767881768, 0.0000002888167364, 0.0000003960315187]\n",
    "\n",
    "    # Compute\n",
    "    y = u - 0.5\n",
    "    if abs(y) < 0.42:\n",
    "        r = y * y\n",
    "        x = y * (((a[3] * r + a[2]) * r + a[1]) * r + a[0]) / ((((b[3] * r + b[2]) * r + b[1]) * r + b[0]) * r + 1)\n",
    "    else:\n",
    "        r = u\n",
    "        if y > 0:\n",
    "            r = 1 - u\n",
    "        r = math.log(-math.log(r))\n",
    "        x = c[0] + r * (c[1] + r * (c[2] + r * (c[3] + r * (c[4] + r * (c[5] + r * (c[6] + r * (c[7] + r * c[8])))))))\n",
    "        if y < 0:\n",
    "            x = -x\n",
    "\n",
    "    return x"
   ]
  },
  {
   "cell_type": "code",
   "execution_count": 29,
   "id": "529fe4c0",
   "metadata": {},
   "outputs": [],
   "source": [
    "def inverseTransform(N):\n",
    "    uniformSamples = LCG(N)\n",
    "    normalSamples = []\n",
    "    for i,u in enumerate(uniformSamples):\n",
    "        normalSamples.append(beaselySpringerMoro(u))\n",
    "    \n",
    "    return normalSamples"
   ]
  },
  {
   "cell_type": "code",
   "execution_count": 57,
   "id": "b3cf4106",
   "metadata": {},
   "outputs": [],
   "source": [
    "numPaths = 1000000"
   ]
  },
  {
   "cell_type": "code",
   "execution_count": 58,
   "id": "5e097ea3",
   "metadata": {},
   "outputs": [],
   "source": [
    "T = 7/12\n",
    "K = 52\n",
    "S0 = 49\n",
    "v = 0.27\n",
    "r = 0.045\n",
    "q = 0.02"
   ]
  },
  {
   "cell_type": "code",
   "execution_count": 59,
   "id": "95b96b03",
   "metadata": {},
   "outputs": [],
   "source": [
    "def european_option_monte_carlo(S0, K, T, r, q, sigma, option_type, numPaths):\n",
    "    dt = T\n",
    "    Z = np.array(inverseTransform(numPaths))\n",
    "    ST = S0 * np.exp((r - q - 0.5 * sigma**2) * dt + sigma * np.sqrt(dt) * Z)\n",
    "    \n",
    "    if option_type == 'call':\n",
    "        payoff = np.maximum(ST - K, 0)\n",
    "    elif option_type == 'put':\n",
    "        payoff = np.maximum(K - ST, 0)\n",
    "    \n",
    "    discount_factor = np.exp(-r * T)\n",
    "    option_price = discount_factor * np.mean(payoff)\n",
    "    return option_price"
   ]
  },
  {
   "cell_type": "code",
   "execution_count": 60,
   "id": "0b2192bc",
   "metadata": {},
   "outputs": [
    {
     "name": "stdout",
     "output_type": "stream",
     "text": [
      "3.048897492977414\n"
     ]
    }
   ],
   "source": [
    "callP = european_option_monte_carlo(S0, K, T, r, q, v, 'call', numPaths)\n",
    "print(callP)"
   ]
  },
  {
   "cell_type": "code",
   "execution_count": 61,
   "id": "fbd9b349",
   "metadata": {},
   "outputs": [
    {
     "name": "stdout",
     "output_type": "stream",
     "text": [
      "5.276422753272728\n"
     ]
    }
   ],
   "source": [
    "putP = european_option_monte_carlo(S0, K, T, r, q, v, 'put', numPaths)\n",
    "print(putP)"
   ]
  },
  {
   "cell_type": "code",
   "execution_count": 62,
   "id": "1fec6b5e",
   "metadata": {},
   "outputs": [
    {
     "name": "stdout",
     "output_type": "stream",
     "text": [
      "0.4491019749419678\n",
      "-0.5391681154875982\n"
     ]
    }
   ],
   "source": [
    "#Delta\n",
    "deltaS = 1e-6\n",
    "callUp = european_option_monte_carlo(S0 + deltaS, K, T, r, q, v, 'call', numPaths)\n",
    "callDown = european_option_monte_carlo(S0 - deltaS, K, T, r, q, v, 'call', numPaths)\n",
    "\n",
    "deltaCall = (callUp - callDown)/(2*deltaS)\n",
    "print(deltaCall)\n",
    "\n",
    "putUp = european_option_monte_carlo(S0 + deltaS, K, T, r, q, v, 'put', numPaths)\n",
    "putDown = european_option_monte_carlo(S0 - deltaS, K, T, r, q, v, 'put', numPaths)\n",
    "\n",
    "deltaPut = (putUp - putDown)/(2*deltaS)\n",
    "print(deltaPut)"
   ]
  },
  {
   "cell_type": "code",
   "execution_count": 63,
   "id": "7685c24c",
   "metadata": {},
   "outputs": [
    {
     "name": "stdout",
     "output_type": "stream",
     "text": [
      "0.0008881784197001252\n",
      "0.005329070518200751\n"
     ]
    }
   ],
   "source": [
    "#Gamma\n",
    "#deltaS = 1e-6\n",
    "#callUp = european_option_monte_carlo(S0 + deltaS, K, T, r, q, v, 'call', numPaths)\n",
    "#callDown = european_option_monte_carlo(S0 - deltaS, K, T, r, q, v, 'call', numPaths)\n",
    "\n",
    "#deltaCall = (callUp - callDown)/(2*deltaS)\n",
    "#print(deltaCall)\n",
    "\n",
    "#putUp = european_option_monte_carlo(S0 + deltaS, K, T, r, q, v, 'put', numPaths)\n",
    "#putDown = european_option_monte_carlo(S0 - deltaS, K, T, r, q, v, 'put', numPaths)\n",
    "\n",
    "#deltaPut = (putUp - putDown)/(2*deltaS)\n",
    "#print(deltaPut)\n",
    "\n",
    "gammaCall = (callUp + callDown - (2*callP))/(deltaS**2)\n",
    "gammaPut = (putUp + putDown - (2*putP))/(deltaS**2)\n",
    "\n",
    "print(gammaCall)\n",
    "print(gammaPut)"
   ]
  },
  {
   "cell_type": "code",
   "execution_count": 64,
   "id": "82039eec",
   "metadata": {},
   "outputs": [
    {
     "name": "stdout",
     "output_type": "stream",
     "text": [
      "14.639904714286445\n",
      "14.665115419809638\n"
     ]
    }
   ],
   "source": [
    "#Vega\n",
    "deltaV = 1e-6\n",
    "vegaUpC = european_option_monte_carlo(S0 , K, T, r, q, v + deltaV, 'call', numPaths)\n",
    "vegaDownC = european_option_monte_carlo(S0 , K, T, r, q, v - deltaV , 'call', numPaths)\n",
    "\n",
    "vegaCall = (vegaUpC - vegaDownC)/(2*deltaV)\n",
    "\n",
    "vegaUpP = european_option_monte_carlo(S0 , K, T, r, q, v + deltaV, 'put', numPaths)\n",
    "vegaDownP = european_option_monte_carlo(S0 , K, T, r, q, v - deltaV , 'put', numPaths)\n",
    "vegaPut = (vegaUpP - vegaDownP)/(2*deltaV)\n",
    "\n",
    "print(vegaCall)\n",
    "print(vegaPut)"
   ]
  },
  {
   "cell_type": "code",
   "execution_count": 65,
   "id": "6adf053b",
   "metadata": {},
   "outputs": [
    {
     "name": "stdout",
     "output_type": "stream",
     "text": [
      "11.058294217214382\n",
      "-18.489149046896358\n"
     ]
    }
   ],
   "source": [
    "#Rho \n",
    "deltaR = 1e-6\n",
    "rhoUpC = european_option_monte_carlo(S0 , K, T, r + deltaR, q, v , 'call', numPaths)\n",
    "rhoDownC = european_option_monte_carlo(S0 , K, T, r - deltaR , q, v , 'call', numPaths)\n",
    "\n",
    "rhoCall = (rhoUpC - rhoDownC)/(2*deltaR)\n",
    "\n",
    "rhoUpP = european_option_monte_carlo(S0 , K, T, r + deltaR , q, v, 'put', numPaths)\n",
    "rhoDownP = european_option_monte_carlo(S0 , K, T, r - deltaR , q, v, 'put', numPaths)\n",
    "rhoPut = (rhoUpP - rhoDownP)/(2*deltaR)\n",
    "\n",
    "print(rhoCall)\n",
    "print(rhoPut)"
   ]
  },
  {
   "cell_type": "code",
   "execution_count": 70,
   "id": "847bb940",
   "metadata": {},
   "outputs": [
    {
     "name": "stdout",
     "output_type": "stream",
     "text": [
      "-0.01508349882385122\n",
      "-0.009904785986101334\n"
     ]
    }
   ],
   "source": [
    "#theta\n",
    "deltaT = 1e-9\n",
    "thetaUpC = european_option_monte_carlo(S0 , K, T - deltaT, r , q, v , 'call', numPaths)\n",
    "#thetaDownC = european_option_monte_carlo(S0 , K, T - deltaT, r  , q, v , 'call', numPaths)\n",
    "\n",
    "thetaCall = (thetaUpC - callP)/(deltaT)\n",
    "\n",
    "thetaUpP = european_option_monte_carlo(S0 , K, T - deltaT, r , q, v, 'put', numPaths)\n",
    "#thetaDownP = european_option_monte_carlo(S0 , K, T - deltaT, r, q, v, 'put', numPaths)\n",
    "\n",
    "thetaPut = (thetaUpP - putP)/(deltaT)\n",
    "\n",
    "print(thetaCall/252)\n",
    "print(thetaPut/252)"
   ]
  },
  {
   "cell_type": "code",
   "execution_count": 68,
   "id": "d23ea8b6",
   "metadata": {},
   "outputs": [
    {
     "data": {
      "text/plain": [
       "0.0027397260273972603"
      ]
     },
     "execution_count": 68,
     "metadata": {},
     "output_type": "execute_result"
    }
   ],
   "source": []
  },
  {
   "cell_type": "code",
   "execution_count": null,
   "id": "5983e6b9",
   "metadata": {},
   "outputs": [],
   "source": []
  }
 ],
 "metadata": {
  "kernelspec": {
   "display_name": "Python 3 (ipykernel)",
   "language": "python",
   "name": "python3"
  },
  "language_info": {
   "codemirror_mode": {
    "name": "ipython",
    "version": 3
   },
   "file_extension": ".py",
   "mimetype": "text/x-python",
   "name": "python",
   "nbconvert_exporter": "python",
   "pygments_lexer": "ipython3",
   "version": "3.9.13"
  }
 },
 "nbformat": 4,
 "nbformat_minor": 5
}
