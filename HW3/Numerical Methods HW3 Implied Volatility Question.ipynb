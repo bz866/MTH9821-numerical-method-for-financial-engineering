{
 "cells": [
  {
   "cell_type": "code",
   "execution_count": 18,
   "metadata": {},
   "outputs": [],
   "source": [
    "import math\n",
    "from scipy.stats import norm\n",
    "from scipy.optimize import fsolve"
   ]
  },
  {
   "cell_type": "code",
   "execution_count": 5,
   "metadata": {},
   "outputs": [],
   "source": [
    "S0 = 58\n",
    "K = 60\n",
    "r = 0.02\n",
    "q = 0.01\n",
    "T = 9/12\n"
   ]
  },
  {
   "cell_type": "code",
   "execution_count": 17,
   "metadata": {},
   "outputs": [],
   "source": [
    "def blackScholesVanilla(K , T , S , v , q , r , CP ):\n",
    "    phi = 1 if CP == 'C' else -1\n",
    "    dp = (1/(v*math.sqrt(T)))*(math.log(S/K) + ((r - q + (v**2)/2)*T) )\n",
    "    dm = dp - (v*math.sqrt(T))\n",
    "    vBS = phi*((norm.cdf(phi*dp)*(S*math.exp(-q*T))) - ((norm.cdf(phi*dm))*(K*math.exp(-r*T))))\n",
    "    return vBS"
   ]
  },
  {
   "cell_type": "code",
   "execution_count": 23,
   "metadata": {},
   "outputs": [],
   "source": [
    "def calculateIV(v , K , T , S , q , r , CP , Vm):\n",
    "    \n",
    "    modelV = blackScholesVanilla(K , T , S , v , q , r , CP )\n",
    "    eq = modelV - Vm\n",
    "    return eq"
   ]
  },
  {
   "cell_type": "code",
   "execution_count": 24,
   "metadata": {},
   "outputs": [],
   "source": [
    "IV = fsolve(calculateIV , x0 = 0.25 , args =( K , T , S0 , q, r , 'P', 6.36))"
   ]
  },
  {
   "cell_type": "code",
   "execution_count": 25,
   "metadata": {},
   "outputs": [
    {
     "name": "stdout",
     "output_type": "stream",
     "text": [
      "[0.27633884]\n"
     ]
    }
   ],
   "source": [
    "print(IV)"
   ]
  },
  {
   "cell_type": "code",
   "execution_count": 2,
   "metadata": {},
   "outputs": [],
   "source": [
    "def binomialTreePricer(S , K , v, r , q , T , N):\n",
    "    deltaT = T/N\n",
    "    u = math.exp(v*math.sqrt(deltaT))\n",
    "    d = 1/u\n",
    "    f = math.exp((r-q)*(deltaT))\n",
    "    df = math.exp(-r*deltaT)\n",
    "    pU = (f - d)/(u-d)\n",
    "    pD = 1 - pU\n",
    "    V_N = []\n",
    "    for i in range(N+1):\n",
    "        V_N.append(max(K - S*(u**(N-i))*(d**(i)),0))\n",
    "    \n",
    "    for j in range(N-1,-1,-1):\n",
    "        V = []\n",
    "        for i in range(j+1):\n",
    "            p = df*((pU*V_N[i]) + (pD*V_N[i+1]))\n",
    "            V.append(p)\n",
    "        V_N = V\n",
    "    \n",
    "    return V_N[0]\n",
    "\n",
    "    "
   ]
  },
  {
   "cell_type": "code",
   "execution_count": 26,
   "metadata": {},
   "outputs": [
    {
     "name": "stdout",
     "output_type": "stream",
     "text": [
      "6.409608247718533 6.408727248207288\n",
      "40 6.408727248207288 6.266540548039494\n",
      "80 6.266540548039494 6.24758557881732\n",
      "160 6.24758557881732 6.230544710778612\n",
      "320 6.230544710778612 6.236662650205346\n",
      "640 6.236662650205346 6.234128261588947\n",
      "1280 6.234128261588947 6.234890053993187\n",
      "2560 6.234890053993187 6.23432870866447\n",
      "5120 6.23432870866447 6.2339828808779725\n",
      "10240 6.2339828808779725 6.234030983382823\n",
      "10240 6.234030983382823\n"
     ]
    }
   ],
   "source": [
    "tol = 1\n",
    "N = 10\n",
    "tol = 1e-4\n",
    "v = IV[0]\n",
    "prevV = binomialTreePricer(S0 , K , v , r , q , T , N)\n",
    "N = 2*N\n",
    "currV = binomialTreePricer(S0 , K , v , r , q , T , N)\n",
    "\n",
    "print(prevV ,currV)\n",
    "while abs(currV - prevV) > tol:\n",
    "    \n",
    "    prevV = currV\n",
    "    N = 2*N\n",
    "    currV = binomialTreePricer(S0 , K , 0.27 , r , q , T , N)\n",
    "    \n",
    "    print(N , prevV,currV)\n",
    "\n",
    "print(N , currV)\n",
    "    \n",
    "    "
   ]
  },
  {
   "cell_type": "code",
   "execution_count": 36,
   "metadata": {},
   "outputs": [
    {
     "name": "stdout",
     "output_type": "stream",
     "text": [
      "10240\n"
     ]
    }
   ],
   "source": [
    "N_fixed = 10240\n",
    "print(N_fixed)"
   ]
  },
  {
   "cell_type": "code",
   "execution_count": 37,
   "metadata": {},
   "outputs": [],
   "source": [
    "Vm = 6.36"
   ]
  },
  {
   "cell_type": "code",
   "execution_count": 38,
   "metadata": {},
   "outputs": [
    {
     "name": "stdout",
     "output_type": "stream",
     "text": [
      "1 1.9593947445036421 0.27768491069666446 20.32062465618257\n",
      "0.27768491069666446 20.32062465618257 0.2762978132219829 6.386757895111223\n",
      "0.2762978132219829 6.386757895111223 0.276338165616187 6.359198255744719\n"
     ]
    }
   ],
   "source": [
    "#Secant Implementation\n",
    "iv0 = 0.05\n",
    "iv1 = 1\n",
    "tol = 1e-4\n",
    "while abs(iv0 - iv1) > tol:\n",
    "    f1 = binomialTreePricer(S0 , K , iv1 , r , q , T , N_fixed)\n",
    "    f0 = binomialTreePricer(S0 , K , iv0 , r , q , T , N_fixed)\n",
    "    iv2 = iv1 - (((f1-Vm)*(iv1-iv0))/(f1 - f0))\n",
    "    iv0 = iv1\n",
    "    iv1 = iv2\n",
    "    \n",
    "    print(iv0 , f0 , iv1 , f1)"
   ]
  },
  {
   "cell_type": "code",
   "execution_count": null,
   "metadata": {},
   "outputs": [],
   "source": [
    "\n"
   ]
  },
  {
   "cell_type": "code",
   "execution_count": null,
   "metadata": {},
   "outputs": [],
   "source": []
  }
 ],
 "metadata": {
  "kernelspec": {
   "display_name": "Python 3",
   "language": "python",
   "name": "python3"
  },
  "language_info": {
   "codemirror_mode": {
    "name": "ipython",
    "version": 3
   },
   "file_extension": ".py",
   "mimetype": "text/x-python",
   "name": "python",
   "nbconvert_exporter": "python",
   "pygments_lexer": "ipython3",
   "version": "3.8.5"
  }
 },
 "nbformat": 4,
 "nbformat_minor": 4
}
