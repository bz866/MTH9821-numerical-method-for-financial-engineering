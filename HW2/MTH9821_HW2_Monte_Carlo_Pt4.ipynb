{
 "cells": [
  {
   "cell_type": "code",
   "execution_count": 1,
   "id": "33ecf927-8e69-4097-b735-2c26653086d8",
   "metadata": {},
   "outputs": [],
   "source": [
    "import numpy as np\n",
    "import math\n",
    "from scipy.stats import norm\n",
    "import matplotlib.pyplot as plt"
   ]
  },
  {
   "cell_type": "code",
   "execution_count": 2,
   "id": "99efd8bb-62e3-4d85-9919-d2f0dbaf4ad1",
   "metadata": {},
   "outputs": [],
   "source": [
    "def linear_congruential_generator(N):\n",
    "    \"\"\"Generates uniform random samples on [0,1].\"\"\"\n",
    "    \n",
    "    ## Parameters for the Linear Congruential Generator.\n",
    "    a = 39373\n",
    "    c = 0\n",
    "    k = 2**31 - 1\n",
    "\n",
    "    samples = np.zeros(N)\n",
    "    xi = 1\n",
    "\n",
    "    for i in range(N):\n",
    "        xi = (a * xi + c) % k\n",
    "        ui = xi / k\n",
    "        samples[i] = ui\n",
    "    \n",
    "    return samples\n",
    "\n",
    "## Test Script:\n",
    "# N = 10\n",
    "# print(linear_congruential_generator(N))"
   ]
  },
  {
   "cell_type": "code",
   "execution_count": 3,
   "id": "ef073eba-d7a0-4b80-8125-cf2dccf82c69",
   "metadata": {},
   "outputs": [],
   "source": [
    "def inverse_normal_approximation(u):\n",
    "    \"\"\"Generates normally distributed realizations from uniform random realizations.\"\"\"\n",
    "    \n",
    "    ## Constants for approximations to inverse normal.\n",
    "    a0, a1, a2, a3 = 2.50662823884, -18.61500062529, 41.39119773534, -25.44106049637\n",
    "    b0, b1, b2, b3 = -8.47351093090, 23.08336743743, -21.06224101826, 3.13082909833\n",
    "    c0, c1, c2, c3 = 0.3374754822726147, 0.9761690190917186, 0.1607979714918209, 0.0276438810333863\n",
    "    c4, c5, c6, c7, c8 = 0.0038405729373609, 0.0003951896511919, 0.0000321767881768, 0.0000002888167364, 0.0000003960315187\n",
    "\n",
    "    y = u - 0.5\n",
    "    if abs(y) < 0.42:\n",
    "        r = y * y\n",
    "        x = y * (((a3 * r + a2) * r + a1) * r + a0) / ((((b3 * r + b2) * r + b1) * r + b0) * r + 1)\n",
    "    else:\n",
    "        r = u\n",
    "        if y > 0:\n",
    "            r = 1 - u\n",
    "        r = math.log(-math.log(r))\n",
    "        x = c0 + r * (c1 + r * (c2 + r * (c3 + r * (c4 + r * (c5 + r * (c6 + r * (c7 + r * c8)))))))\n",
    "        if y < 0:\n",
    "            x = -x\n",
    "\n",
    "    return x\n",
    "\n",
    "## Test Script:\n",
    "# u = 0.8\n",
    "# print(inverse_normal_approximation(u))\n",
    "## Results verified here: https://statisticshelper.com/inverse-normal-distribution-calculator/#answer\n",
    "\n",
    "## Test Script 2:\n",
    "# N = 1000\n",
    "# k = 5\n",
    "# z = np.vectorize(inverse_normal_approximation)(linear_congruential_generator(N*(2**k)))\n",
    "# plt.hist(z)"
   ]
  },
  {
   "cell_type": "code",
   "execution_count": 4,
   "id": "19741e9e-eb21-45ac-9c88-e827f6558494",
   "metadata": {},
   "outputs": [],
   "source": [
    "def d1(S, K, T, r, q, sigma):\n",
    "    \"\"\"Calculates d1 (BSM).\"\"\"\n",
    "    return (math.log(S / K) + (r - q + 0.5 * sigma**2) * T) / (sigma * math.sqrt(T))\n",
    "\n",
    "def d2(S, K, T, r, q, sigma, d1_val=None):\n",
    "    \"\"\"Calculates d2 (BSM).\"\"\"\n",
    "    if d1_val is None:\n",
    "        d1_val = d1(S, K, T, r, q, sigma)\n",
    "    return d1_val - sigma * math.sqrt(T)\n",
    "\n",
    "def bs_call(S, K, T, r, q, sigma):\n",
    "    \"\"\"Calculate the value for a European call option (BSM).\"\"\"\n",
    "    d1_val = d1(S, K, T, r, q, sigma)\n",
    "    d2_val = d2(S, K, T, r, q, sigma, d1_val)\n",
    "    return S * math.exp(-q * T) * norm.cdf(d1_val) - K * math.exp(-r * T) * norm.cdf(d2_val)\n",
    "\n",
    "def bs_put(S, K, T, r, q, sigma):\n",
    "    \"\"\"Calculate the value for a European put option (BSM).\"\"\"\n",
    "    d1_val = d1(S, K, T, r, q, sigma)\n",
    "    d2_val = d2(S, K, T, r, q, sigma, d1_val)\n",
    "    return K * math.exp(-r * T) * norm.cdf(-d2_val) - S * math.exp(-q * T) * norm.cdf(-d1_val)\n",
    "\n",
    "def bs_call_delta(S, K, T, r, q, sigma):\n",
    "    \"\"\"Calculate the delta for a European call option (BSM).\"\"\"\n",
    "    d1_val = d1(S, K, T, r, q, sigma)\n",
    "    return math.exp(-q * T) * norm.cdf(d1_val)\n",
    "\n",
    "def bs_put_delta(S, K, T, r, q, sigma):\n",
    "    \"\"\"Calculate the delta for a European put option (BSM).\"\"\"\n",
    "    d1_val = d1(S, K, T, r, q, sigma)\n",
    "    return -math.exp(-q * T) * norm.cdf(-d1_val)\n",
    "\n",
    "def bs_gamma(S, K, T, r, q, sigma):\n",
    "    \"\"\"Calculate the gamma of a European option (BSM). Note: same for call and put option.\"\"\"\n",
    "    d1_val = d1(S, K, T, r, q, sigma)\n",
    "    return np.exp(-q * T) * norm.pdf(d1_val) / (S * sigma * math.sqrt(T))\n",
    "\n",
    "def bs_vega(S, K, T, r, q, sigma):\n",
    "    \"\"\"Calculate the vega of a European option (BSM). Note: same for call and put option.\"\"\"\n",
    "    d1_val = d1(S, K, T, r, q, sigma)\n",
    "    return S *  math.exp(-q * T) * math.sqrt(T) * norm.pdf(d1_val)"
   ]
  },
  {
   "cell_type": "code",
   "execution_count": 5,
   "id": "01d82c75-d0bb-4dd8-90a5-a4e0f9713907",
   "metadata": {},
   "outputs": [],
   "source": [
    "def simulated_spot(S0, T, r, q, sigma, zi):\n",
    "    \"\"\"Calculate the simulated spot price S_i at time T.\"\"\"\n",
    "    return S0 * np.exp((r - q - 0.5 * sigma**2) * T + sigma * np.sqrt(T) * zi)\n",
    "\n",
    "def call_payoff(Si, K, T, r):\n",
    "    \"\"\"Calculate the discounted payoff of a European call option at time T.\"\"\"\n",
    "    return np.exp(-r * T) * np.maximum(Si - K, 0)\n",
    "\n",
    "def put_payoff(Si, K, T, r):\n",
    "    \"\"\"Calculate the discounted payoff of a European put option at time T.\"\"\"\n",
    "    return np.exp(-r * T) * np.maximum(K - Si, 0)\n",
    "\n",
    "def call_delta_estimate(Si, S0, K, T, r):\n",
    "    \"\"\"Calculate the delta estimate of the European call option at time T.\"\"\"\n",
    "    indicator = (Si > K).astype(int) # Convert boolean array to int array\n",
    "    return indicator * np.exp(-r * T) * Si / S0\n",
    "\n",
    "def put_delta_estimate(Si, S0, K, T, r):\n",
    "    \"\"\"Calculate the delta estimate of the European put option at time T.\"\"\"\n",
    "    indicator = (K > Si).astype(int) * -1 # Convert boolean array to int array\n",
    "    return indicator * np.exp(-r * T) * Si / S0\n",
    "\n",
    "def call_vega_estimate(Si, K, T, r, sigma, zi):\n",
    "    \"\"\"Calculate the vega estimate of the European call option at time T.\"\"\"\n",
    "    indicator = (Si > K).astype(int) # Convert boolean array to int array\n",
    "    return indicator * Si * np.exp(-r * T) * (-sigma * T + np.sqrt(T) * zi)\n",
    "\n",
    "def put_vega_estimate(Si, K, T, r, sigma, zi):\n",
    "    \"\"\"Calculate the vega estimate of the European put option at time T.\"\"\"\n",
    "    indicator = (K > Si).astype(int) * -1 # Convert boolean array to int array\n",
    "    return indicator * Si * np.exp(-r * T) * (-sigma * T + np.sqrt(T) * zi)"
   ]
  },
  {
   "cell_type": "code",
   "execution_count": 6,
   "id": "209b422c-08a7-40f0-abbc-86377e5fe170",
   "metadata": {},
   "outputs": [],
   "source": [
    "def box_muller(u1,u2):\n",
    "    u1 = 2 * u1 - 1\n",
    "    u2 = 2 * u2 - 1\n",
    "    x = u1**2 + u2**2\n",
    "    if x > 1:\n",
    "        return None\n",
    "    y = np.sqrt(-2*math.log(x)/x)\n",
    "    z1 = u1 * y\n",
    "    z2 = u2 * y\n",
    "    return (z1,z2)"
   ]
  },
  {
   "cell_type": "markdown",
   "id": "20131d25-9d8f-4b8c-84a3-94be77039ca5",
   "metadata": {},
   "source": [
    "Part4\n",
    "\n",
    "By Zhuo"
   ]
  },
  {
   "cell_type": "code",
   "execution_count": 7,
   "id": "e5812363-1cb7-46fc-bfa5-e3e6d83e2285",
   "metadata": {},
   "outputs": [],
   "source": [
    "#The parameters for the asset\n",
    "S0 = 50\n",
    "sigma = 0.3\n",
    "V0 = 0.09\n",
    "lam = 4\n",
    "V_mean = 0.35**2\n",
    "eta = 0.25\n",
    "q = 0\n",
    "rho = -0.15\n",
    "\n",
    "#The parameters for the put\n",
    "T = 0.5\n",
    "K = 50\n",
    "r = 0.05\n",
    "\n",
    "#The parameters for the model\n",
    "m = 175\n",
    "delta_t = T / m\n"
   ]
  },
  {
   "cell_type": "code",
   "execution_count": 8,
   "id": "57260832-08fa-4197-bc9d-2e4533a6f34b",
   "metadata": {},
   "outputs": [
    {
     "name": "stdout",
     "output_type": "stream",
     "text": [
      "3.5829339156412274\n"
     ]
    }
   ],
   "source": [
    "p_true = bs_put(S0, K, T, r, q, sigma)\n",
    "print(p_true)"
   ]
  },
  {
   "cell_type": "code",
   "execution_count": 28,
   "id": "b31735a1-e11a-4161-ae41-1d9b82acfa46",
   "metadata": {},
   "outputs": [],
   "source": [
    "values = []\n",
    "for k in range(6):\n",
    "    n = 500 * (2**k)\n",
    "    N = 2 * 175 * n # number of independent normal rvs needed\n",
    "    U = linear_congruential_generator(int(1.5*N)) # To generate N independent normal rvs, approximately needs 1.5*N independent uniform rvs\n",
    "    sum_v = 0\n",
    "    i = 0\n",
    "    count = 0\n",
    "    while count < 175 * n:\n",
    "        time = 0\n",
    "        S = S0\n",
    "        V = V0\n",
    "        while time < 175:\n",
    "            u1 = U[2*i]\n",
    "            u2 = U[2*i+1]\n",
    "            i += 1\n",
    "            tup = box_muller(u1,u2)\n",
    "            if tup != None:\n",
    "                zi,zj = tup\n",
    "                count += 1\n",
    "                S = S * np.exp((r - max(V,0)/2) * delta_t + np.sqrt(max(V,0) * delta_t) * zi)\n",
    "                V = max(V,0) - lam * (max(V,0) - V_mean) * delta_t + eta * np.sqrt(max(V,0) * delta_t) * (rho * zi + np.sqrt(1 - rho**2) * zj)\n",
    "                time += 1\n",
    "        sum_v += put_payoff(S, K, T, r)\n",
    "    value_hat = sum_v / n\n",
    "    values.append(value_hat)"
   ]
  },
  {
   "cell_type": "code",
   "execution_count": 29,
   "id": "c4ec7b8c-a7b9-4a27-b47a-c42ff851d299",
   "metadata": {},
   "outputs": [
    {
     "data": {
      "text/plain": [
       "[3.9588521348855616,\n",
       " 3.7352167699475767,\n",
       " 3.961409951594242,\n",
       " 4.025638237540043,\n",
       " 4.014398561331073,\n",
       " 3.9814912578023693]"
      ]
     },
     "execution_count": 29,
     "metadata": {},
     "output_type": "execute_result"
    }
   ],
   "source": [
    "values"
   ]
  },
  {
   "cell_type": "code",
   "execution_count": 30,
   "id": "cb190493-0fe9-4551-95c8-3e4ffb12e925",
   "metadata": {},
   "outputs": [],
   "source": [
    "#find the impied volatility\n",
    "def bisection(f,x1,x2,tol):\n",
    "    while max(abs(f(x1)),abs(f(x2)))>tol:\n",
    "        mid = (x1+x2)/2\n",
    "        if f(mid)*f(x1) < 0:\n",
    "            x2 = mid\n",
    "        else:\n",
    "            x1 = mid\n",
    "    return x1"
   ]
  },
  {
   "cell_type": "code",
   "execution_count": 31,
   "id": "905c5596-ecd4-47c7-8a03-9635e077bfd3",
   "metadata": {},
   "outputs": [],
   "source": [
    "imps = []\n",
    "for v in values:\n",
    "    def implied(sigma0):\n",
    "        return bs_put(S0, K, T, r, q, sigma0) - v\n",
    "    #print(implied(0.3))\n",
    "    #print(implied(0.4))\n",
    "    imp = bisection(implied,0.3,0.5,10**(-6))\n",
    "    imps.append(imp)"
   ]
  },
  {
   "cell_type": "code",
   "execution_count": 32,
   "id": "09bad29b-6d4e-46a5-926b-965ae6a28bf1",
   "metadata": {},
   "outputs": [
    {
     "data": {
      "text/plain": [
       "[0.3273270606994628,\n",
       " 0.3110702037811279,\n",
       " 0.3275129795074462,\n",
       " 0.33218212127685537,\n",
       " 0.3313650608062743,\n",
       " 0.32897281646728516]"
      ]
     },
     "execution_count": 32,
     "metadata": {},
     "output_type": "execute_result"
    }
   ],
   "source": [
    "imps"
   ]
  },
  {
   "cell_type": "code",
   "execution_count": null,
   "id": "56e85dcb-4e11-485a-b801-caf88e64fbfb",
   "metadata": {},
   "outputs": [],
   "source": []
  }
 ],
 "metadata": {
  "kernelspec": {
   "display_name": "Python 3 (ipykernel)",
   "language": "python",
   "name": "python3"
  },
  "language_info": {
   "codemirror_mode": {
    "name": "ipython",
    "version": 3
   },
   "file_extension": ".py",
   "mimetype": "text/x-python",
   "name": "python",
   "nbconvert_exporter": "python",
   "pygments_lexer": "ipython3",
   "version": "3.9.12"
  }
 },
 "nbformat": 4,
 "nbformat_minor": 5
}
