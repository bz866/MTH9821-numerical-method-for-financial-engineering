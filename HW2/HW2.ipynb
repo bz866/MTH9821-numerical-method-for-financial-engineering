{
 "cells": [
  {
   "cell_type": "code",
   "execution_count": 1,
   "metadata": {},
   "outputs": [],
   "source": [
    "import math\n",
    "from scipy.stats import norm\n",
    "import pandas as pd\n",
    "import numpy as np"
   ]
  },
  {
   "cell_type": "code",
   "execution_count": 2,
   "metadata": {},
   "outputs": [],
   "source": [
    "#Set display precision for float values to 6 decimal places\n",
    "pd.set_option('display.float_format', '{:.6f}'.format)"
   ]
  },
  {
   "cell_type": "code",
   "execution_count": 3,
   "metadata": {},
   "outputs": [],
   "source": [
    "import warnings\n",
    "warnings.simplefilter(action='ignore', category=FutureWarning)"
   ]
  },
  {
   "cell_type": "code",
   "execution_count": 4,
   "metadata": {},
   "outputs": [],
   "source": [
    "def linear_congruential_generator(N):\n",
    "    \"\"\"Generates uniform random samples on [0,1].\"\"\"\n",
    "    \n",
    "    ## Parameters for the Linear Congruential Generator.\n",
    "    a = 39373\n",
    "    c = 0\n",
    "    k = 2**31 - 1\n",
    "\n",
    "    samples = np.zeros(N)\n",
    "    xi = 1\n",
    "\n",
    "    for i in range(N):\n",
    "        xi = (a * xi + c) % k\n",
    "        ui = xi / k\n",
    "        samples[i] = ui\n",
    "    \n",
    "    return samples\n"
   ]
  },
  {
   "cell_type": "code",
   "execution_count": 5,
   "metadata": {},
   "outputs": [],
   "source": [
    "#2.3 Box-Muller\n",
    "def box_muller(u1,u2):\n",
    "    u1 = 2 * u1 - 1\n",
    "    u2 = 2 * u2 - 1\n",
    "    x = u1**2 + u2**2\n",
    "    if x > 1:\n",
    "        return None\n",
    "    y = np.sqrt(-2*math.log(x)/x)\n",
    "    z1 = u1 * y\n",
    "    z2 = u2 * y\n",
    "    return (z1,z2)"
   ]
  },
  {
   "cell_type": "code",
   "execution_count": 6,
   "metadata": {},
   "outputs": [],
   "source": [
    "def generate_normal_samples(uniSamples):\n",
    "    samples = []\n",
    "    N = 10000*(2**9)\n",
    "    i = 0\n",
    "    while len(samples) < N:\n",
    "        Z = box_muller(uniSamples[i] , uniSamples[i+1])\n",
    "        if Z:\n",
    "            samples.append(Z[0])\n",
    "            samples.append(Z[1])\n",
    "        i += 2\n",
    "    return samples"
   ]
  },
  {
   "cell_type": "code",
   "execution_count": 7,
   "metadata": {},
   "outputs": [],
   "source": [
    "uniformSamples = linear_congruential_generator(10000*(2**14))\n",
    "normalSamplesAll = generate_normal_samples(uniformSamples)\n"
   ]
  },
  {
   "cell_type": "code",
   "execution_count": 8,
   "metadata": {},
   "outputs": [
    {
     "data": {
      "text/plain": [
       "163840000"
      ]
     },
     "execution_count": 8,
     "metadata": {},
     "output_type": "execute_result"
    }
   ],
   "source": [
    "len(uniformSamples)"
   ]
  },
  {
   "cell_type": "code",
   "execution_count": 9,
   "metadata": {},
   "outputs": [
    {
     "data": {
      "text/plain": [
       "5120000"
      ]
     },
     "execution_count": 9,
     "metadata": {},
     "output_type": "execute_result"
    }
   ],
   "source": [
    "len(normalSamplesAll)"
   ]
  },
  {
   "cell_type": "code",
   "execution_count": 10,
   "metadata": {},
   "outputs": [],
   "source": [
    "def blackScholesVanilla(K , T , S , v , q , r , CP ):\n",
    "    phi = 1 if CP == 'C' else -1\n",
    "    dp = (1/(v*math.sqrt(T)))*(math.log(S/K) + ((r - q + (v**2)/2)*T) )\n",
    "    dm = dp - (v*math.sqrt(T))\n",
    "    vBS = phi*((norm.cdf(phi*dp)*(S*math.exp(-q*T))) - ((norm.cdf(phi*dm))*(K*math.exp(-r*T))))\n",
    "    return vBS"
   ]
  },
  {
   "cell_type": "code",
   "execution_count": 11,
   "metadata": {},
   "outputs": [],
   "source": [
    "T = 0.75\n",
    "CP = 'P'\n",
    "K = 54\n",
    "q = 0\n",
    "S0 = 56\n",
    "v = 0.27\n",
    "r = 0.02\n"
   ]
  },
  {
   "cell_type": "code",
   "execution_count": 12,
   "metadata": {},
   "outputs": [
    {
     "name": "stdout",
     "output_type": "stream",
     "text": [
      "3.801071883826836\n"
     ]
    }
   ],
   "source": [
    "V_BS = blackScholesVanilla(K , T , S0 , v , q , r , CP )\n",
    "print(V_BS)"
   ]
  },
  {
   "cell_type": "code",
   "execution_count": null,
   "metadata": {},
   "outputs": [],
   "source": [
    "'''\n",
    "Z = np.array(normalSamples)\n",
    "S = S0*np.exp((r-((v**2)/2)) + v*(math.sqrt(T))*Z)\n",
    "Zero = np.zeros(len(S)) \n",
    "V = np.exp(-r*T)*np.maximum(K - S, Zero )\n",
    "\n",
    "S_n = np.mean(S)\n",
    "V_n = np.mean(V)\n",
    "\n",
    "S_bar = S - S_n\n",
    "V_bar = V - V_n\n",
    "\n",
    "b = (np.dot(S_bar , V_bar))/(np.dot(S_bar , S_bar))\n",
    "W = V - b*(S - (math.exp(r*T)*S0))\n",
    "\n",
    "V_CV_n = W_n = np.mean(W)\n",
    "'''"
   ]
  },
  {
   "cell_type": "code",
   "execution_count": null,
   "metadata": {},
   "outputs": [],
   "source": []
  },
  {
   "cell_type": "code",
   "execution_count": null,
   "metadata": {},
   "outputs": [],
   "source": []
  },
  {
   "cell_type": "code",
   "execution_count": null,
   "metadata": {},
   "outputs": [],
   "source": []
  },
  {
   "cell_type": "code",
   "execution_count": 14,
   "metadata": {},
   "outputs": [
    {
     "name": "stdout",
     "output_type": "stream",
     "text": [
      "10000 3.762976882118533 0.038095001708303045\n",
      "20000 3.760174727915477 0.04089715591135912\n",
      "40000 3.798584417438944 0.002487466387892212\n",
      "80000 3.805737820114191 0.004665936287354899\n",
      "160000 3.811181961648319 0.010110077821483099\n",
      "320000 3.805990838805181 0.004918954978344825\n",
      "640000 3.804925924377765 0.003854040550928861\n",
      "1280000 3.8029039866601155 0.001832102833279503\n",
      "2560000 3.801071882788615 1.0382210646753265e-09\n",
      "5120000 3.800667107236537 0.0004047765902992495\n"
     ]
    }
   ],
   "source": [
    "#Control Variates\n",
    "k = list(range(10))\n",
    "for _k in k:\n",
    "    n = 10000*(2**_k)\n",
    "    normalSamples = normalSamplesAll[:n]\n",
    "    Z = np.array(normalSamples)\n",
    "    S = S0*np.exp(((r-((v**2)/2))*T) + (v*(math.sqrt(T))*Z))\n",
    "    Zero = np.zeros(len(S)) \n",
    "    V = np.exp(-r*T)*np.maximum(K - S, Zero )\n",
    "\n",
    "    S_n = np.mean(S)\n",
    "    V_n = np.mean(V)\n",
    "\n",
    "    S_bar = S - S_n\n",
    "    V_bar = V - V_n\n",
    "\n",
    "    b = (np.dot(S_bar , V_bar))/(np.dot(S_bar , S_bar))\n",
    "    W = V - b*(S - (math.exp(r*T)*S0))\n",
    "\n",
    "    V_CV_n = W_n = np.mean(W)\n",
    "    \n",
    "    print( n , V_CV_n , abs(V_BS - V_CV_n))"
   ]
  },
  {
   "cell_type": "code",
   "execution_count": null,
   "metadata": {},
   "outputs": [],
   "source": [
    "len(Z)"
   ]
  },
  {
   "cell_type": "code",
   "execution_count": 15,
   "metadata": {},
   "outputs": [
    {
     "name": "stdout",
     "output_type": "stream",
     "text": [
      "10000 3.808513099604818 0.00744121577798218\n",
      "20000 3.807996772512087 0.006924888685250874\n",
      "40000 3.83988486465195 0.038812980825114085\n",
      "80000 3.846151235558733 0.04507935173189681\n",
      "160000 3.8508171151850608 0.04974523135822473\n",
      "320000 3.847777442458947 0.04670555863211101\n",
      "640000 3.847391423336874 0.04631953951003798\n",
      "1280000 3.845446657931191 0.04437477410435475\n",
      "2560000 3.843555822274267 0.04248393844743115\n",
      "5120000 3.843176627732499 0.04210474390566299\n"
     ]
    }
   ],
   "source": [
    "#Antithetic Variables\n",
    "for _k in k:\n",
    "    n = 10000*(2**_k)\n",
    "    normalSamples = normalSamplesAll[:n]\n",
    "    Z = np.array(normalSamples)\n",
    "    \n",
    "    Zero = np.zeros(len(Z)) \n",
    "    \n",
    "    Z1 = Z\n",
    "    Z2 = -1*Z\n",
    "    \n",
    "    S1 = S0*np.exp((r-((v**2)/2)) + (v*(math.sqrt(T))*Z1))\n",
    "    S2 = S0*np.exp(((r-((v**2)/2))*T) + (v*(math.sqrt(T))*Z2))\n",
    "    \n",
    "    V1 = np.exp(-r*T)*np.maximum(K - S1, Zero )\n",
    "    V2 = np.exp(-r*T)*np.maximum(K - S2, Zero )\n",
    "    \n",
    "    V = (V1 + V2)/2\n",
    "    \n",
    "    V_AV_n = np.mean(V)\n",
    "    \n",
    "    print( n , V_AV_n , abs(V_BS - V_AV_n))"
   ]
  },
  {
   "cell_type": "code",
   "execution_count": 16,
   "metadata": {},
   "outputs": [
    {
     "name": "stdout",
     "output_type": "stream",
     "text": [
      "10000 3.758879248746038 0.04219263508079818\n",
      "20000 3.7584481485562944 0.04262373527054164\n",
      "40000 3.797759051858886 0.0033128319679498475\n",
      "80000 3.805040627815494 0.0039687439886577636\n",
      "160000 3.8100138105616193 0.008941926734783223\n",
      "320000 3.806129769131595 0.0050578853047591465\n",
      "640000 3.8053177682133223 0.0042458843864863205\n",
      "1280000 3.8030411835162137 0.001969299689377646\n",
      "2560000 3.8009817806465915 9.010318024449404e-05\n",
      "5120000 3.800750041218082 0.00032184260875389725\n"
     ]
    }
   ],
   "source": [
    "# Moment Matching\n",
    "for _k in k:\n",
    "    n = 10000*(2**_k)\n",
    "    normalSamples = normalSamplesAll[:n]\n",
    "    Z = np.array(normalSamples)\n",
    "    \n",
    "    Zero = np.zeros(len(Z)) \n",
    "    \n",
    "    S = S0*np.exp(((r-((v**2)/2))*T) + (v*(math.sqrt(T))*Z))\n",
    "    S_n = np.mean(S)\n",
    "    \n",
    "    S_tilda = S*((math.exp(r*T)*S0)/(S_n))\n",
    "    \n",
    "    V_tilda = np.exp(-r*T)*np.maximum(K - S_tilda, Zero )\n",
    "    \n",
    "    V_MM_n = np.mean(V_tilda)\n",
    "    \n",
    "    print(n , V_MM_n , abs(V_BS - V_MM_n))\n",
    "    "
   ]
  },
  {
   "cell_type": "code",
   "execution_count": 17,
   "metadata": {},
   "outputs": [
    {
     "name": "stdout",
     "output_type": "stream",
     "text": [
      "10000 3.7275266513559333 0.07354523247090272\n",
      "20000 3.7457343534426655 0.05533753038417055\n",
      "40000 3.7918143004676823 0.00925758335915372\n",
      "80000 3.7998771309924892 0.0011947528343467795\n",
      "160000 3.8009987406400114 7.314318682460907e-05\n",
      "320000 3.8071930789511423 0.006121195124306311\n",
      "640000 3.8083266333965593 0.007254749569723273\n",
      "1280000 3.8040770605154184 0.003005176688582356\n",
      "2560000 3.800305630118145 0.0007662537086909893\n",
      "5120000 3.801372916610829 0.00030103278399318256\n"
     ]
    }
   ],
   "source": [
    "# Simultaneous Moment Matching and Control Variates\n",
    "for _k in k:\n",
    "    n = 10000*(2**_k)\n",
    "    normalSamples = normalSamplesAll[:n]\n",
    "    Z = np.array(normalSamples)\n",
    "    \n",
    "    Zero = np.zeros(len(Z)) \n",
    "    \n",
    "    S = S0*np.exp(((r-((v**2)/2))*T) + (v*(math.sqrt(T))*Z))\n",
    "    S_n = np.mean(S)\n",
    "    \n",
    "    S_tilda = S*((math.exp(r*T)*S0)/(S_n))\n",
    "    \n",
    "    V_tilda = np.exp(-r*T)*np.maximum(K - S_tilda, Zero )\n",
    "    \n",
    "    S_n = np.mean(S_tilda)\n",
    "    V_n = np.mean(V_tilda)\n",
    "    \n",
    "    S_bar = S_tilda - S_n\n",
    "    V_bar = V_tilda - V_n\n",
    "\n",
    "    b = (np.dot(S_bar , V_bar))/(np.dot(S_bar , S_bar))\n",
    "    W = V_tilda - b*(S - (math.exp(r*T)*S0))\n",
    "\n",
    "    V_CV_MM_n = np.mean(W)\n",
    "    print(n , V_CV_MM_n , abs(V_BS - V_CV_MM_n))"
   ]
  },
  {
   "cell_type": "code",
   "execution_count": 20,
   "metadata": {},
   "outputs": [],
   "source": [
    "T = 0.5\n",
    "\n",
    "r = 0.025\n",
    "\n",
    "S10 = 26\n",
    "S20 = 29\n",
    "\n",
    "v1 = 0.31\n",
    "v2 = 0.21\n",
    "\n",
    "K = 50\n",
    "rho = 0.3"
   ]
  },
  {
   "cell_type": "code",
   "execution_count": 22,
   "metadata": {},
   "outputs": [
    {
     "name": "stdout",
     "output_type": "stream",
     "text": [
      "6.635690069726578\n",
      "6.654352366186453\n",
      "6.640069192179972\n",
      "6.641466472571224\n",
      "6.662836155284208\n",
      "6.6597729706860775\n",
      "6.6548515760518345\n",
      "6.649923570630976\n",
      "6.652679426499821\n"
     ]
    }
   ],
   "source": [
    "#Monte Carlo Pricing for Basket Options\n",
    "k = list(range(9))\n",
    "for _k in k:\n",
    "    n = 10000*(2**_k)\n",
    "    normalSamples = normalSamplesAll[:2*n]\n",
    "    \n",
    "    Z1 = np.array(normalSamples)[::2]\n",
    "    Z2 = np.array(normalSamples)[1::2]\n",
    "    \n",
    "    Zero = np.zeros(len(Z1)) \n",
    "    \n",
    "    S1 = S10*np.exp(((r-((v1**2)/2))*T) + (v1*(math.sqrt(T))*Z1))\n",
    "    S2 = S20*np.exp(((r-((v2**2)/2))*T) + (v2*(math.sqrt(T))*(rho*Z1 + math.sqrt(1-(rho**2))*Z2)))\n",
    "    \n",
    "    V = math.exp(-r*T)*np.maximum(S1 + S2 - K , Zero)\n",
    "    \n",
    "    V_n = np.mean(V)\n",
    "    \n",
    "    print( V_n)\n"
   ]
  },
  {
   "cell_type": "code",
   "execution_count": null,
   "metadata": {},
   "outputs": [],
   "source": []
  }
 ],
 "metadata": {
  "kernelspec": {
   "display_name": "Python 3",
   "language": "python",
   "name": "python3"
  },
  "language_info": {
   "codemirror_mode": {
    "name": "ipython",
    "version": 3
   },
   "file_extension": ".py",
   "mimetype": "text/x-python",
   "name": "python",
   "nbconvert_exporter": "python",
   "pygments_lexer": "ipython3",
   "version": "3.8.5"
  }
 },
 "nbformat": 4,
 "nbformat_minor": 4
}
