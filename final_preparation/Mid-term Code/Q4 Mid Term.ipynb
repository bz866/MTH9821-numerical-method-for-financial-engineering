{
 "cells": [
  {
   "cell_type": "code",
   "execution_count": 1,
   "metadata": {},
   "outputs": [],
   "source": [
    "import math\n",
    "from scipy.stats import norm\n",
    "from scipy.optimize import fsolve"
   ]
  },
  {
   "cell_type": "code",
   "execution_count": null,
   "metadata": {},
   "outputs": [],
   "source": []
  },
  {
   "cell_type": "code",
   "execution_count": 2,
   "metadata": {},
   "outputs": [
    {
     "data": {
      "text/html": [
       "<style>.container { width:100% !important; }</style>"
      ],
      "text/plain": [
       "<IPython.core.display.HTML object>"
      ]
     },
     "metadata": {},
     "output_type": "display_data"
    }
   ],
   "source": [
    "from IPython.core.display import display, HTML\n",
    "display(HTML(\"<style>.container { width:100% !important; }</style>\"))\n"
   ]
  },
  {
   "cell_type": "code",
   "execution_count": 3,
   "metadata": {},
   "outputs": [],
   "source": [
    "S0 = 56\n",
    "K = 60\n",
    "r = 0.0450\n",
    "q = 0.015\n",
    "T = 8/12\n",
    "Vm = 6.95"
   ]
  },
  {
   "cell_type": "code",
   "execution_count": 4,
   "metadata": {},
   "outputs": [],
   "source": [
    "def blackScholesVanilla(K , T , S , v , q , r , CP ):\n",
    "    phi = 1 if CP == 'C' else -1\n",
    "    dp = (1/(v*math.sqrt(T)))*(math.log(S/K) + ((r - q + (v**2)/2)*T) )\n",
    "    dm = dp - (v*math.sqrt(T))\n",
    "    vBS = phi*((norm.cdf(phi*dp)*(S*math.exp(-q*T))) - ((norm.cdf(phi*dm))*(K*math.exp(-r*T))))\n",
    "    return vBS"
   ]
  },
  {
   "cell_type": "code",
   "execution_count": 5,
   "metadata": {},
   "outputs": [],
   "source": [
    "def calculateIV(v , K , T , S , q , r , CP , Vm):\n",
    "    \n",
    "    modelV = blackScholesVanilla(K , T , S , v , q , r , CP )\n",
    "    eq = modelV - Vm\n",
    "    return eq"
   ]
  },
  {
   "cell_type": "code",
   "execution_count": 6,
   "metadata": {},
   "outputs": [],
   "source": [
    "IV = fsolve(calculateIV , x0 = 0.25 , args =( K , T , S0 , q, r , 'P', Vm))"
   ]
  },
  {
   "cell_type": "code",
   "execution_count": 7,
   "metadata": {},
   "outputs": [
    {
     "name": "stdout",
     "output_type": "stream",
     "text": [
      "[0.29489447]\n"
     ]
    }
   ],
   "source": [
    "print(IV)"
   ]
  },
  {
   "cell_type": "code",
   "execution_count": 8,
   "metadata": {},
   "outputs": [],
   "source": [
    "def trinomialTreePricer(S , K , v, r , q , T , N):\n",
    "    deltaT = T/N\n",
    "    u = math.exp(v*math.sqrt(3*deltaT))\n",
    "    d = 1/u\n",
    "    m = 1\n",
    "    #f = math.exp((r-q)*(deltaT))\n",
    "    df = math.exp(-r*deltaT)\n",
    "    t1 = (r-q-((v**2)/2))\n",
    "    t2 = math.sqrt(deltaT/(12*(v**2)))\n",
    "    pU = (1/6) + (t1*t2) \n",
    "    pD = (1/6) - (t1*t2)\n",
    "    pM = (2/3)\n",
    "    V_N = []\n",
    "    for i in range((2*N)+1):\n",
    "        V_N.append(max(K - S*(u**(N-i)),0))\n",
    "    \n",
    "    for j in range(N-1,-1,-1):\n",
    "        V = []\n",
    "        for i in range((2*j) +1):\n",
    "            p = df*((pU*V_N[i]) + (pM*V_N[i+1]) + (pD*(V_N[i+2])))\n",
    "            #American Pricer\n",
    "            am = max(K - S*(u**(j-i)) , 0)\n",
    "            p = max(p,am)\n",
    "            V.append(p)\n",
    "        V_N = V\n",
    "    \n",
    "    return V_N[0]"
   ]
  },
  {
   "cell_type": "code",
   "execution_count": 9,
   "metadata": {},
   "outputs": [],
   "source": [
    "def trinomialTreeBSPricer(S , K , v, r , q , T , N):\n",
    "    deltaT = T/N\n",
    "    u = math.exp(v*math.sqrt(3*deltaT))\n",
    "    d = 1/u\n",
    "    m = 1\n",
    "    #f = math.exp((r-q)*(deltaT))\n",
    "    df = math.exp(-r*deltaT)\n",
    "    t1 = (r-q-((v**2)/2))\n",
    "    t2 = math.sqrt(deltaT/(12*(v**2)))\n",
    "    pU = (1/6) + (t1*t2) \n",
    "    pD = (1/6) - (t1*t2)\n",
    "    pM = (2/3)\n",
    "    V_N = []\n",
    "    for i in range((2*N)-1):\n",
    "        V_N.append(blackScholesVanilla(K , deltaT , S*(u**(N-1-i)) , v , q , r , 'P' ))\n",
    "    \n",
    "    for j in range(N-2,-1,-1):\n",
    "        V = []\n",
    "        for i in range((2*j) +1):\n",
    "            p = df*((pU*V_N[i]) + (pM*V_N[i+1]) + (pD*(V_N[i+2]))) \n",
    "            #American Pricer\n",
    "            am = max(K - S*(u**(j-i)) , 0)\n",
    "            p = max(p,am)\n",
    "            V.append(p)\n",
    "        V_N = V\n",
    "    \n",
    "    return V_N[0]"
   ]
  },
  {
   "cell_type": "code",
   "execution_count": 10,
   "metadata": {},
   "outputs": [],
   "source": [
    "def trinomialTreeBSRPricer(S , K , v, r , q , T , N):\n",
    "    t1 = trinomialTreeBSPricer(S , K , v, r , q , T , 2*N)\n",
    "    t2 = trinomialTreeBSPricer(S , K , v, r , q , T , N)\n",
    "    \n",
    "    return (2*t1) - t2"
   ]
  },
  {
   "cell_type": "code",
   "execution_count": 12,
   "metadata": {},
   "outputs": [
    {
     "name": "stdout",
     "output_type": "stream",
     "text": [
      "6.351300492928197 6.350992986889087\n",
      "40 6.350992986889087 6.352356153139095\n",
      "80 6.352356153139095 6.350598610596669\n",
      "160 6.350598610596669 6.3509048495649765\n",
      "320 6.3509048495649765 6.350884443634775\n",
      "640 6.350884443634775 6.350845185096149\n",
      "1280 6.350845185096149 6.350838349906355\n",
      "2560 6.350838349906355 6.35084050109749\n",
      "5120 6.35084050109749 6.350839576930721\n",
      "5120 6.350839576930721\n"
     ]
    }
   ],
   "source": [
    "\n",
    "N = 10\n",
    "tol = 1e-6\n",
    "v = 0.25\n",
    "prevV = trinomialTreeBSRPricer(S0 , K , v , r , q , T , N)\n",
    "N = 2*N\n",
    "currV = trinomialTreeBSRPricer(S0 , K , v , r , q , T , N)\n",
    "\n",
    "print(prevV ,currV)\n",
    "while abs(currV - prevV) > tol:\n",
    "    \n",
    "    prevV = currV\n",
    "    N = 2*N\n",
    "    currV = trinomialTreeBSRPricer(S0 , K , v , r , q , T , N)\n",
    "    \n",
    "    print(N , prevV,currV)\n",
    "\n",
    "print(N , currV)"
   ]
  },
  {
   "cell_type": "code",
   "execution_count": 13,
   "metadata": {},
   "outputs": [],
   "source": [
    "N_fixed = N"
   ]
  },
  {
   "cell_type": "code",
   "execution_count": 14,
   "metadata": {},
   "outputs": [],
   "source": [
    "import numpy as np\n",
    "\n",
    "def calculate_ABC(y, R):\n",
    "    A = ((np.exp(((1 - (2 / np.pi)) * y)) - np.exp(-((1 - (2 / np.pi)) * y))) ** 2)\n",
    "    B = (4 * (np.exp(((2/np.pi) * y)) + np.exp(-(((2 / np.pi) * y)))) - (2 * np.exp(-y) * ((np.exp((1 - (2 / np.pi)) * y) + np.exp(-((1 - (2 / np.pi)) * y))) * (np.exp((2 * y)) + 1) - (R ** 2))))\n",
    "    C = (np.exp((-2) * y) * ((R ** 2 - ((np.exp(y) - 1) ** 2)) * ((np.exp(y) + 1) ** 2) - R**2))\n",
    "    print(A,B,C)\n",
    "    return A, B, C\n",
    "\n",
    "def calculate_ABC(y, R):\n",
    "    # Compute terms for A\n",
    "    term1_A = math.exp((1 - (2/math.pi)) * y)\n",
    "    term2_A = math.exp(-(1 - (2/math.pi)) * y)\n",
    "    A = (term1_A - term2_A) ** 2\n",
    "\n",
    "    # Compute terms for B\n",
    "    term1_B = 4 * (math.exp((2/math.pi) * y) + math.exp(-(2/math.pi) * y))\n",
    "    term2_B = 2 * math.exp(-y) * (math.exp((1 - (2/math.pi)) * y) + math.exp(-(1 - (2/math.pi)) * y))\n",
    "    term3_B = (math.exp(2 * y) + 1 - (R ** 2))\n",
    "    B = term1_B - (term2_B * term3_B)\n",
    "\n",
    "    # Compute terms for C\n",
    "    term1_C = math.exp(-2 * y)\n",
    "    term2_C = (R ** 2) - ((math.exp(y) - 1) ** 2)\n",
    "    term3_C = ((math.exp(y) + 1) ** 2) - (R ** 2)\n",
    "    C = term1_C * term2_C * term3_C\n",
    "\n",
    "    return A, B, C\n",
    "\n",
    "def A_f(x):\n",
    "    common_term = 0.5 * np.sqrt(1 - np.exp(-2 * x**2) / np.pi)\n",
    "    if x >= 0:\n",
    "        return 0.5 + common_term\n",
    "    else:\n",
    "        return 0.5 - common_term\n",
    "\n",
    "def approx_implied_vol_call(Cm, K, T, F, r):\n",
    "    y = np.log(F / K)\n",
    "    alphaC = Cm/(K*np.exp(-r * T))\n",
    "    R = ((2 * alphaC) - np.exp(y) + 1)\n",
    "    A, B, C = calculate_ABC(y, R)\n",
    "    beta = ((2 * C) / (B + np.sqrt((B ** 2) + (4 * A * C))))\n",
    "    gamma = (-(np.pi / 2) * np.log(beta))\n",
    "    if y >= 0:\n",
    "        C0 = K * np.exp(-r * T) * ((np.exp(y) * (A_f(np.sqrt((2 * y))))) - 0.5)\n",
    "        if Cm <= C0:\n",
    "            sigma = (1 / np.sqrt(T)) * ((np.sqrt(gamma + y)) - np.sqrt((gamma - y)))\n",
    "        else:\n",
    "            sigma = (1 / np.sqrt(T)) * ((np.sqrt(gamma + y)) + np.sqrt((gamma - y)))\n",
    "    else:\n",
    "        C0 = K * np.exp(-r * T) * ((np.exp(y) / 2) - A_f(-np.sqrt((-2) * y)))\n",
    "        if Cm <= C0:\n",
    "            sigma = (1 / np.sqrt(T)) * ((-np.sqrt(gamma + y)) + np.sqrt((gamma - y)))\n",
    "        else:\n",
    "            sigma = (1 / np.sqrt(T)) * ((np.sqrt(gamma + y)) + np.sqrt((gamma - y)))\n",
    "    return sigma\n",
    "\n",
    "def approx_implied_vol_put(Pm, K, T, F, r):\n",
    "    print(Pm, K, T, F, r)\n",
    "    y = np.log(F / K)\n",
    "    alphaP = Pm/(K*np.exp(-r * T))\n",
    "    R = ((2 * alphaP) + np.exp(y) - 1)\n",
    "    A, B, C = calculate_ABC(y, R)\n",
    "    print(A,B,C)\n",
    "    beta = ((2 * C) / (B + np.sqrt((B ** 2) + (4 * A * C))))\n",
    "    gamma = (-(np.pi / 2) * np.log(beta))\n",
    "    print(beta , gamma)\n",
    "    if y >= 0:\n",
    "        P0 = K * np.exp(-r * T) * (0.5 - (np.exp(y) * A_f(-np.sqrt((2 * y)))))\n",
    "        print(y,P0)\n",
    "        if Pm <= P0:\n",
    "            sigma = (1 / np.sqrt(T)) * ((np.sqrt(gamma + y)) - np.sqrt((gamma - y)))\n",
    "        else:\n",
    "            sigma = (1 / np.sqrt(T)) * ((np.sqrt(gamma + y)) + np.sqrt((gamma - y)))\n",
    "    else:\n",
    "        P0 = K * np.exp(-r * T) * ((A_f(np.sqrt((-2) * y))) - ((np.exp(y) / 2)))\n",
    "        if Pm <= P0:\n",
    "            sigma = (1 / np.sqrt(T)) * ((-np.sqrt(gamma + y)) + np.sqrt((gamma - y)))\n",
    "        else:\n",
    "            sigma = (1 / np.sqrt(T)) * ((np.sqrt(gamma + y)) + np.sqrt((gamma - y)))\n",
    "    return sigma\n"
   ]
  },
  {
   "cell_type": "code",
   "execution_count": 15,
   "metadata": {},
   "outputs": [
    {
     "name": "stdout",
     "output_type": "stream",
     "text": [
      "6.95 60 0.6666666666666666 57.13127504149833 0.045\n",
      "0.0012679269932118766 0.14615001214802703 0.14221647939920812\n",
      "0.9650066782055413 0.05595216924283666\n"
     ]
    }
   ],
   "source": [
    "F = S0*math.exp((r-q)*T)\n",
    "iv_approx = approx_implied_vol_put(Vm, K, T, F, r)"
   ]
  },
  {
   "cell_type": "code",
   "execution_count": 16,
   "metadata": {},
   "outputs": [
    {
     "data": {
      "text/plain": [
       "0.29458765639080964"
      ]
     },
     "execution_count": 16,
     "metadata": {},
     "output_type": "execute_result"
    }
   ],
   "source": [
    "iv_approx"
   ]
  },
  {
   "cell_type": "code",
   "execution_count": 18,
   "metadata": {},
   "outputs": [
    {
     "name": "stdout",
     "output_type": "stream",
     "text": [
      "0.2745876563908096 6.782130131531267 0.31458765639080966 7.491157526067803\n",
      "0.31458765639080966 7.491157526067803 0.28405808699827373 6.9493052115006675\n",
      "0.2840972334467307 6.949997256410611\n"
     ]
    }
   ],
   "source": [
    "#Secant Implementation\n",
    "iv0 = iv_approx - 0.02\n",
    "\n",
    "iv1 = iv_approx + 0.02\n",
    "tol = 1e-4\n",
    "while abs(iv0 - iv1) > tol:\n",
    "    f1 = trinomialTreeBSRPricer(S0 , K , iv1 , r , q , T , N_fixed)\n",
    "    f0 = trinomialTreeBSRPricer(S0 , K , iv0 , r , q , T , N_fixed)\n",
    "    print(iv0 , f0 , iv1 , f1)\n",
    "    iv2 = iv1 - (((f1-Vm)*(iv1-iv0))/(f1 - f0))\n",
    "    iv0 = iv1\n",
    "    iv1 = iv2\n",
    "    \n",
    "print(iv1 , trinomialTreeBSRPricer(S0 , K , iv1 , r , q , T , N_fixed))"
   ]
  },
  {
   "cell_type": "code",
   "execution_count": null,
   "metadata": {},
   "outputs": [],
   "source": []
  }
 ],
 "metadata": {
  "kernelspec": {
   "display_name": "Python 3 (ipykernel)",
   "language": "python",
   "name": "python3"
  },
  "language_info": {
   "codemirror_mode": {
    "name": "ipython",
    "version": 3
   },
   "file_extension": ".py",
   "mimetype": "text/x-python",
   "name": "python",
   "nbconvert_exporter": "python",
   "pygments_lexer": "ipython3",
   "version": "3.9.13"
  }
 },
 "nbformat": 4,
 "nbformat_minor": 4
}
