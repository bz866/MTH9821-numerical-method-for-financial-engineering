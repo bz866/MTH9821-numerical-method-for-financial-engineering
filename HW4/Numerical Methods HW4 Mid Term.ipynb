{
 "cells": [
  {
   "cell_type": "code",
   "execution_count": 1,
   "metadata": {},
   "outputs": [],
   "source": [
    "import math\n",
    "from scipy.stats import norm\n",
    "from scipy.optimize import fsolve"
   ]
  },
  {
   "cell_type": "code",
   "execution_count": null,
   "metadata": {},
   "outputs": [],
   "source": [
    "\n"
   ]
  },
  {
   "cell_type": "code",
   "execution_count": 2,
   "metadata": {},
   "outputs": [
    {
     "data": {
      "text/html": [
       "<style>.container { width:100% !important; }</style>"
      ],
      "text/plain": [
       "<IPython.core.display.HTML object>"
      ]
     },
     "metadata": {},
     "output_type": "display_data"
    }
   ],
   "source": [
    "from IPython.core.display import display, HTML\n",
    "display(HTML(\"<style>.container { width:100% !important; }</style>\"))\n"
   ]
  },
  {
   "cell_type": "code",
   "execution_count": 11,
   "metadata": {},
   "outputs": [],
   "source": [
    "S0 = 56\n",
    "K = 60\n",
    "r = 0.0450\n",
    "q = 0.015\n",
    "T = 8/12\n",
    "Vm = 6.95"
   ]
  },
  {
   "cell_type": "code",
   "execution_count": 12,
   "metadata": {},
   "outputs": [],
   "source": [
    "def blackScholesVanilla(K , T , S , v , q , r , CP ):\n",
    "    phi = 1 if CP == 'C' else -1\n",
    "    dp = (1/(v*math.sqrt(T)))*(math.log(S/K) + ((r - q + (v**2)/2)*T) )\n",
    "    dm = dp - (v*math.sqrt(T))\n",
    "    vBS = phi*((norm.cdf(phi*dp)*(S*math.exp(-q*T))) - ((norm.cdf(phi*dm))*(K*math.exp(-r*T))))\n",
    "    return vBS"
   ]
  },
  {
   "cell_type": "code",
   "execution_count": 13,
   "metadata": {},
   "outputs": [],
   "source": [
    "def calculateIV(v , K , T , S , q , r , CP , Vm):\n",
    "    \n",
    "    modelV = blackScholesVanilla(K , T , S , v , q , r , CP )\n",
    "    eq = modelV - Vm\n",
    "    return eq"
   ]
  },
  {
   "cell_type": "code",
   "execution_count": 14,
   "metadata": {},
   "outputs": [],
   "source": [
    "IV = fsolve(calculateIV , x0 = 0.25 , args =( K , T , S0 , q, r , 'P', Vm))"
   ]
  },
  {
   "cell_type": "code",
   "execution_count": 15,
   "metadata": {},
   "outputs": [
    {
     "name": "stdout",
     "output_type": "stream",
     "text": [
      "[0.29489447]\n"
     ]
    }
   ],
   "source": [
    "print(IV)"
   ]
  },
  {
   "cell_type": "code",
   "execution_count": 16,
   "metadata": {},
   "outputs": [],
   "source": [
    "def trinomialTreePricer(S , K , v, r , q , T , N):\n",
    "    deltaT = T/N\n",
    "    u = math.exp(v*math.sqrt(3*deltaT))\n",
    "    d = 1/u\n",
    "    m = 1\n",
    "    #f = math.exp((r-q)*(deltaT))\n",
    "    df = math.exp(-r*deltaT)\n",
    "    t1 = (r-q-((v**2)/2))\n",
    "    t2 = math.sqrt(deltaT/(12*(v**2)))\n",
    "    pU = (1/6) + (t1*t2) \n",
    "    pD = (1/6) - (t1*t2)\n",
    "    pM = (2/3)\n",
    "    V_N = []\n",
    "    for i in range((2*N)+1):\n",
    "        V_N.append(max(K - S*(u**(N-i)),0))\n",
    "    \n",
    "    for j in range(N-1,-1,-1):\n",
    "        V = []\n",
    "        for i in range((2*j) +1):\n",
    "            p = df*((pU*V_N[i]) + (pM*V_N[i+1]) + (pD*(V_N[i+2])))\n",
    "            V.append(p)\n",
    "        V_N = V\n",
    "    \n",
    "    return V_N[0]"
   ]
  },
  {
   "cell_type": "code",
   "execution_count": 17,
   "metadata": {},
   "outputs": [],
   "source": [
    "def trinomialTreeBSPricer(S , K , v, r , q , T , N):\n",
    "    deltaT = T/N\n",
    "    u = math.exp(v*math.sqrt(3*deltaT))\n",
    "    d = 1/u\n",
    "    m = 1\n",
    "    #f = math.exp((r-q)*(deltaT))\n",
    "    df = math.exp(-r*deltaT)\n",
    "    t1 = (r-q-((v**2)/2))\n",
    "    t2 = math.sqrt(deltaT/(12*(v**2)))\n",
    "    pU = (1/6) + (t1*t2) \n",
    "    pD = (1/6) - (t1*t2)\n",
    "    pM = (2/3)\n",
    "    V_N = []\n",
    "    for i in range((2*N)-1):\n",
    "        V_N.append(blackScholesVanilla(K , deltaT , S*(u**(N-1-i)) , v , q , r , 'P' ))\n",
    "    \n",
    "    for j in range(N-2,-1,-1):\n",
    "        V = []\n",
    "        for i in range((2*j) +1):\n",
    "            p = df*((pU*V_N[i]) + (pM*V_N[i+1]) + (pD*(V_N[i+2]))) \n",
    "            #American Pricer\n",
    "            am = max(K - S*(u**(j-i)) , 0)\n",
    "            p = max(p,am)\n",
    "            V.append(p)\n",
    "        V_N = V\n",
    "    \n",
    "    return V_N[0]"
   ]
  },
  {
   "cell_type": "code",
   "execution_count": 18,
   "metadata": {},
   "outputs": [],
   "source": [
    "def trinomialTreeBSRPricer(S , K , v, r , q , T , N):\n",
    "    t1 = trinomialTreeBSPricer(S , K , v, r , q , T , 2*N)\n",
    "    t2 = trinomialTreeBSPricer(S , K , v, r , q , T , N)\n",
    "    \n",
    "    return (2*t1) - t2"
   ]
  },
  {
   "cell_type": "code",
   "execution_count": null,
   "metadata": {},
   "outputs": [
    {
     "name": "stdout",
     "output_type": "stream",
     "text": [
      "7.016640631156409 6.960918418919231\n",
      "40 6.960918418919231 6.925221645414716\n",
      "80 6.925221645414716 6.958216486047864\n",
      "160 6.958216486047864 6.945829994097656\n",
      "320 6.945829994097656 6.946818861438186\n",
      "640 6.946818861438186 6.94979380833941\n",
      "1280 6.94979380833941 6.949427021215969\n",
      "2560 6.949427021215969 6.9502054465658984\n",
      "5120 6.9502054465658984 6.949952270128587\n",
      "10240 6.949952270128587 6.950019597766911\n"
     ]
    }
   ],
   "source": [
    "\n",
    "N = 10\n",
    "tol = 1e-6\n",
    "v = IV[0]\n",
    "prevV = trinomialTreePricer(S0 , K , v , r , q , T , N)\n",
    "N = 2*N\n",
    "currV = trinomialTreePricer(S0 , K , v , r , q , T , N)\n",
    "\n",
    "print(prevV ,currV)\n",
    "while abs(currV - prevV) > tol:\n",
    "    \n",
    "    prevV = currV\n",
    "    N = 2*N\n",
    "    currV = trinomialTreePricer(S0 , K , v , r , q , T , N)\n",
    "    \n",
    "    print(N , prevV,currV)\n",
    "\n",
    "print(N , currV)"
   ]
  },
  {
   "cell_type": "code",
   "execution_count": 22,
   "metadata": {},
   "outputs": [],
   "source": [
    "N_fixed = N"
   ]
  },
  {
   "cell_type": "code",
   "execution_count": 23,
   "metadata": {},
   "outputs": [
    {
     "name": "stdout",
     "output_type": "stream",
     "text": [
      "0.05 2.0003063953777436 1 12.031901850030353\n",
      "1 12.031901850030353 0.24694862430629816 3.799054802592438\n",
      "0.24694862430629816 3.799054802592438 0.2726464377338102 4.077216854701962\n",
      "0.2726464377338102 4.077216854701962 0.272903556733574 4.080008546023878\n",
      "0.27290276963182886 4.079999999777234\n"
     ]
    }
   ],
   "source": [
    "#Secant Implementation\n",
    "iv0 = 0.05\n",
    "iv1 = 1\n",
    "tol = 1e-4\n",
    "while abs(iv0 - iv1) > tol:\n",
    "    f1 = trinomialTreeBSRPricer(S0 , K , iv1 , r , q , T , N_fixed)\n",
    "    f0 = trinomialTreeBSRPricer(S0 , K , iv0 , r , q , T , N_fixed)\n",
    "    print(iv0 , f0 , iv1 , f1)\n",
    "    iv2 = iv1 - (((f1-Vm)*(iv1-iv0))/(f1 - f0))\n",
    "    iv0 = iv1\n",
    "    iv1 = iv2\n",
    "    \n",
    "print(iv1 , trinomialTreeBSRPricer(S0 , K , iv1 , r , q , T , N_fixed))"
   ]
  },
  {
   "cell_type": "code",
   "execution_count": null,
   "metadata": {},
   "outputs": [],
   "source": []
  }
 ],
 "metadata": {
  "kernelspec": {
   "display_name": "Python 3",
   "language": "python",
   "name": "python3"
  },
  "language_info": {
   "codemirror_mode": {
    "name": "ipython",
    "version": 3
   },
   "file_extension": ".py",
   "mimetype": "text/x-python",
   "name": "python",
   "nbconvert_exporter": "python",
   "pygments_lexer": "ipython3",
   "version": "3.8.5"
  }
 },
 "nbformat": 4,
 "nbformat_minor": 4
}
