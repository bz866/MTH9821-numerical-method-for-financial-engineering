{
 "cells": [
  {
   "cell_type": "code",
   "execution_count": 1,
   "id": "02765848-3cee-481a-a5f5-63df2884f44a",
   "metadata": {},
   "outputs": [],
   "source": [
    "import numpy as np\n",
    "import math\n",
    "from scipy.stats import norm\n",
    "import matplotlib.pyplot as plt"
   ]
  },
  {
   "cell_type": "code",
   "execution_count": 2,
   "id": "3e6cc26b-a7b7-4109-9542-5cfa3729288f",
   "metadata": {},
   "outputs": [],
   "source": [
    "def linear_congruential_generator(N):\n",
    "    \"\"\"Generates uniform random samples on [0,1].\"\"\"\n",
    "    \n",
    "    ## Parameters for the Linear Congruential Generator.\n",
    "    a = 39373\n",
    "    c = 0\n",
    "    k = 2**31 - 1\n",
    "\n",
    "    samples = np.zeros(N)\n",
    "    xi = 1\n",
    "\n",
    "    for i in range(N):\n",
    "        xi = (a * xi + c) % k\n",
    "        ui = xi / k\n",
    "        samples[i] = ui\n",
    "    \n",
    "    return samples\n",
    "\n",
    "## Test Script:\n",
    "# N = 10\n",
    "# print(linear_congruential_generator(N))"
   ]
  },
  {
   "cell_type": "code",
   "execution_count": 3,
   "id": "b71f2bb0-3090-46ae-9626-4a321a66f786",
   "metadata": {},
   "outputs": [],
   "source": [
    "def inverse_normal_approximation(u):\n",
    "    \"\"\"Generates normally distributed realizations from uniform random realizations.\"\"\"\n",
    "    \n",
    "    ## Constants for approximations to inverse normal.\n",
    "    a0, a1, a2, a3 = 2.50662823884, -18.61500062529, 41.39119773534, -25.44106049637\n",
    "    b0, b1, b2, b3 = -8.47351093090, 23.08336743743, -21.06224101826, 3.13082909833\n",
    "    c0, c1, c2, c3 = 0.3374754822726147, 0.9761690190917186, 0.1607979714918209, 0.0276438810333863\n",
    "    c4, c5, c6, c7, c8 = 0.0038405729373609, 0.0003951896511919, 0.0000321767881768, 0.0000002888167364, 0.0000003960315187\n",
    "\n",
    "    y = u - 0.5\n",
    "    if abs(y) < 0.42:\n",
    "        r = y * y\n",
    "        x = y * (((a3 * r + a2) * r + a1) * r + a0) / ((((b3 * r + b2) * r + b1) * r + b0) * r + 1)\n",
    "    else:\n",
    "        r = u\n",
    "        if y > 0:\n",
    "            r = 1 - u\n",
    "        r = math.log(-math.log(r))\n",
    "        x = c0 + r * (c1 + r * (c2 + r * (c3 + r * (c4 + r * (c5 + r * (c6 + r * (c7 + r * c8)))))))\n",
    "        if y < 0:\n",
    "            x = -x\n",
    "\n",
    "    return x\n",
    "\n",
    "## Test Script:\n",
    "# u = 0.8\n",
    "# print(inverse_normal_approximation(u))\n",
    "## Results verified here: https://statisticshelper.com/inverse-normal-distribution-calculator/#answer\n",
    "\n",
    "## Test Script 2:\n",
    "# N = 1000\n",
    "# k = 5\n",
    "# z = np.vectorize(inverse_normal_approximation)(linear_congruential_generator(N*(2**k)))\n",
    "# plt.hist(z)"
   ]
  },
  {
   "cell_type": "code",
   "execution_count": 4,
   "id": "aa5c5283-ced6-4071-b626-f1cf13440867",
   "metadata": {},
   "outputs": [],
   "source": [
    "def d1(S, K, T, r, q, sigma):\n",
    "    \"\"\"Calculates d1 (BSM).\"\"\"\n",
    "    return (math.log(S / K) + (r - q + 0.5 * sigma**2) * T) / (sigma * math.sqrt(T))\n",
    "\n",
    "def d2(S, K, T, r, q, sigma, d1_val=None):\n",
    "    \"\"\"Calculates d2 (BSM).\"\"\"\n",
    "    if d1_val is None:\n",
    "        d1_val = d1(S, K, T, r, q, sigma)\n",
    "    return d1_val - sigma * math.sqrt(T)\n",
    "\n",
    "def bs_call(S, K, T, r, q, sigma):\n",
    "    \"\"\"Calculate the value for a European call option (BSM).\"\"\"\n",
    "    d1_val = d1(S, K, T, r, q, sigma)\n",
    "    d2_val = d2(S, K, T, r, q, sigma, d1_val)\n",
    "    return S * math.exp(-q * T) * norm.cdf(d1_val) - K * math.exp(-r * T) * norm.cdf(d2_val)\n",
    "\n",
    "def bs_put(S, K, T, r, q, sigma):\n",
    "    \"\"\"Calculate the value for a European put option (BSM).\"\"\"\n",
    "    d1_val = d1(S, K, T, r, q, sigma)\n",
    "    d2_val = d2(S, K, T, r, q, sigma, d1_val)\n",
    "    return K * math.exp(-r * T) * norm.cdf(-d2_val) - S * math.exp(-q * T) * norm.cdf(-d1_val)\n",
    "\n",
    "def bs_call_delta(S, K, T, r, q, sigma):\n",
    "    \"\"\"Calculate the delta for a European call option (BSM).\"\"\"\n",
    "    d1_val = d1(S, K, T, r, q, sigma)\n",
    "    return math.exp(-q * T) * norm.cdf(d1_val)\n",
    "\n",
    "def bs_put_delta(S, K, T, r, q, sigma):\n",
    "    \"\"\"Calculate the delta for a European put option (BSM).\"\"\"\n",
    "    d1_val = d1(S, K, T, r, q, sigma)\n",
    "    return -math.exp(-q * T) * norm.cdf(-d1_val)\n",
    "\n",
    "def bs_gamma(S, K, T, r, q, sigma):\n",
    "    \"\"\"Calculate the gamma of a European option (BSM). Note: same for call and put option.\"\"\"\n",
    "    d1_val = d1(S, K, T, r, q, sigma)\n",
    "    return np.exp(-q * T) * norm.pdf(d1_val) / (S * sigma * math.sqrt(T))\n",
    "\n",
    "def bs_vega(S, K, T, r, q, sigma):\n",
    "    \"\"\"Calculate the vega of a European option (BSM). Note: same for call and put option.\"\"\"\n",
    "    d1_val = d1(S, K, T, r, q, sigma)\n",
    "    return S *  math.exp(-q * T) * math.sqrt(T) * norm.pdf(d1_val)\n",
    "\n",
    "## Test Script:\n",
    "# S = 100\n",
    "# K = 100\n",
    "# T = 1\n",
    "# r = 0.03\n",
    "# q = 0.03\n",
    "# sigma = 0.2\n",
    "\n",
    "# print(\"Call Option Value:\", bs_call(S, K, T, r, q, sigma))\n",
    "# print(\"Put Option Value:\", bs_put(S, K, T, r, q, sigma))\n",
    "# print(\"Call Option Delta:\", bs_call_delta(S, K, T, r, q, sigma))\n",
    "# print(\"Put Option Delta:\", bs_put_delta(S, K, T, r, q, sigma))\n",
    "# print(\"Option Gamma:\", bs_gamma(S, K, T, r, q, sigma))\n",
    "# print(\"Option Vega:\", bs_vega(S, K, T, r, q, sigma))\n",
    "## Verified results are correct here: https://goodcalculators.com/black-scholes-calculator/"
   ]
  },
  {
   "cell_type": "code",
   "execution_count": 5,
   "id": "5cfe520d-63c5-4454-873d-5209cd68975b",
   "metadata": {},
   "outputs": [],
   "source": [
    "def simulated_spot(S0, T, r, q, sigma, zi):\n",
    "    \"\"\"Calculate the simulated spot price S_i at time T.\"\"\"\n",
    "    return S0 * np.exp((r - q - 0.5 * sigma**2) * T + sigma * np.sqrt(T) * zi)\n",
    "\n",
    "def call_payoff(Si, K, T, r):\n",
    "    \"\"\"Calculate the discounted payoff of a European call option at time T.\"\"\"\n",
    "    return np.exp(-r * T) * np.maximum(Si - K, 0)\n",
    "\n",
    "def put_payoff(Si, K, T, r):\n",
    "    \"\"\"Calculate the discounted payoff of a European put option at time T.\"\"\"\n",
    "    return np.exp(-r * T) * np.maximum(K - Si, 0)\n",
    "\n",
    "def call_delta_estimate(Si, S0, K, T, r):\n",
    "    \"\"\"Calculate the delta estimate of the European call option at time T.\"\"\"\n",
    "    indicator = (Si > K).astype(int) # Convert boolean array to int array\n",
    "    return indicator * np.exp(-r * T) * Si / S0\n",
    "\n",
    "def put_delta_estimate(Si, S0, K, T, r):\n",
    "    \"\"\"Calculate the delta estimate of the European put option at time T.\"\"\"\n",
    "    indicator = (K > Si).astype(int) * -1 # Convert boolean array to int array\n",
    "    return indicator * np.exp(-r * T) * Si / S0\n",
    "\n",
    "def call_vega_estimate(Si, K, T, r, sigma, zi):\n",
    "    \"\"\"Calculate the vega estimate of the European call option at time T.\"\"\"\n",
    "    indicator = (Si > K).astype(int) # Convert boolean array to int array\n",
    "    return indicator * Si * np.exp(-r * T) * (-sigma * T + np.sqrt(T) * zi)\n",
    "\n",
    "def put_vega_estimate(Si, K, T, r, sigma, zi):\n",
    "    \"\"\"Calculate the vega estimate of the European put option at time T.\"\"\"\n",
    "    indicator = (K > Si).astype(int) * -1 # Convert boolean array to int array\n",
    "    return indicator * Si * np.exp(-r * T) * (-sigma * T + np.sqrt(T) * zi)\n",
    "\n",
    "\n",
    "## Test Script:\n",
    "# S0 = 100\n",
    "# K = 100\n",
    "# T = 1\n",
    "# r = 0.03\n",
    "# q = 0.03\n",
    "# sigma = 0.2\n",
    "# zi = 1\n",
    "\n",
    "# Si = simulated_spot(S0, T, r, q, sigma, zi)\n",
    "# print(\"Simulated Spot (Si):\", Si)\n",
    "# print(\"Call Option Payoff (Ci):\", call_payoff(Si, K, T, r))\n",
    "# print(\"Put Option Payoff (Pi):\", put_payoff(Si, K, T, r))\n",
    "# print(\"Call Option Delta Estimate (∆i(C)):\", call_delta_estimate(Si, S0, K, T, r))\n",
    "# print(\"Put Option Delta Estimate (∆i(P)):\", put_delta_estimate(Si, S0, K, T, r))\n",
    "# print(\"Call Option Vega Estimate (vegai(C)):\", call_vega_estimate(Si, K, T, r, sigma, zi))\n",
    "# print(\"Put Option Vega Estimate (vegai(P)):\", put_vega_estimate(Si, K, T, r, sigma, zi))"
   ]
  },
  {
   "cell_type": "code",
   "execution_count": 6,
   "id": "03f06ee6-4f72-4c12-8654-5e1df63f8de9",
   "metadata": {},
   "outputs": [],
   "source": [
    "def HW1_NUM3(S0, K, T, r, q, sigma, z):\n",
    "    ## Vectorized calculation for all simulated spot prices.\n",
    "    Si_array = simulated_spot(S0, T, r, q, sigma, z)\n",
    "\n",
    "    ## Vectorized calculation for call payoff, delta, and vega.\n",
    "    C_hat_array = call_payoff(Si_array, K, T, r)\n",
    "    delta_C_hat_array = call_delta_estimate(Si_array, S0, K, T, r)\n",
    "    vega_C_hat_array = call_vega_estimate(Si_array, K, T, r, sigma, z)\n",
    "\n",
    "    ## Aggregation.\n",
    "    N = len(z)\n",
    "    C_hat = np.mean(C_hat_array)\n",
    "    delta_C_hat = np.mean(delta_C_hat_array)\n",
    "    vega_C_hat = np.mean(vega_C_hat_array)\n",
    "\n",
    "    ## Output results:\n",
    "    print(\"Results for N =\", N)\n",
    "    print(\"Call Option Value -- Monte Carlo:\", C_hat)\n",
    "    print(\"Call Option Value -- BS:\", bs_call(S0, K, T, r, q, sigma))\n",
    "    print(\"sqrt(N)*|C_BS - C_hat|:\", math.sqrt(N)*abs(bs_call(S0, K, T, r, q, sigma)-C_hat))\n",
    "    print(\"Call Option Delta -- Monte Carlo:\", delta_C_hat)\n",
    "    print(\"Call Option Delta -- BS:\", bs_call_delta(S0, K, T, r, q, sigma))\n",
    "    print(\"sqrt(N)*|delta_C_BS - delta_C_hat|:\", math.sqrt(N)*abs(bs_call_delta(S0, K, T, r, q, sigma)-delta_C_hat))      \n",
    "    print(\"Call Option Vega -- Monte Carlo:\", vega_C_hat)\n",
    "    print(\"Call Option Vega -- BS:\", bs_vega(S0, K, T, r, q, sigma))\n",
    "    print(\"sqrt(N)*|vega_C_BS - vega_C_hat|:\", math.sqrt(N)*abs(bs_vega(S0, K, T, r, q, sigma)-vega_C_hat))\n",
    "    print(\"\\n\")"
   ]
  },
  {
   "cell_type": "code",
   "execution_count": 7,
   "id": "47ca3ac1-8e4a-4208-9c64-a3c044dd635f",
   "metadata": {},
   "outputs": [
    {
     "name": "stdout",
     "output_type": "stream",
     "text": [
      "Results for N = 10000\n",
      "Call Option Value -- Monte Carlo: 3.364443246828319\n",
      "Call Option Value -- BS: 3.3411791913217144\n",
      "sqrt(N)*|C_BS - C_hat|: 2.326405550660482\n",
      "Call Option Delta -- Monte Carlo: 0.5258680322254572\n",
      "Call Option Delta -- BS: 0.5224707292291643\n",
      "sqrt(N)*|delta_C_BS - delta_C_hat|: 0.3397302996292928\n",
      "Call Option Vega -- Monte Carlo: 14.120530414994855\n",
      "Call Option Vega -- BS: 14.028613519226251\n",
      "sqrt(N)*|vega_C_BS - vega_C_hat|: 9.191689576860362\n",
      "\n",
      "\n",
      "Results for N = 20000\n",
      "Call Option Value -- Monte Carlo: 3.347003279669108\n",
      "Call Option Value -- BS: 3.3411791913217144\n",
      "sqrt(N)*|C_BS - C_hat|: 0.8236504729342926\n",
      "Call Option Delta -- Monte Carlo: 0.5201341933825683\n",
      "Call Option Delta -- BS: 0.5224707292291643\n",
      "sqrt(N)*|delta_C_BS - delta_C_hat|: 0.33043606832269484\n",
      "Call Option Vega -- Monte Carlo: 14.062738032656215\n",
      "Call Option Vega -- BS: 14.028613519226251\n",
      "sqrt(N)*|vega_C_BS - vega_C_hat|: 4.825934970203749\n",
      "\n",
      "\n",
      "Results for N = 40000\n",
      "Call Option Value -- Monte Carlo: 3.326600575457776\n",
      "Call Option Value -- BS: 3.3411791913217144\n",
      "sqrt(N)*|C_BS - C_hat|: 2.9157231727876542\n",
      "Call Option Delta -- Monte Carlo: 0.5208384850445978\n",
      "Call Option Delta -- BS: 0.5224707292291643\n",
      "sqrt(N)*|delta_C_BS - delta_C_hat|: 0.3264488369132845\n",
      "Call Option Vega -- Monte Carlo: 13.965001132415448\n",
      "Call Option Vega -- BS: 14.028613519226251\n",
      "sqrt(N)*|vega_C_BS - vega_C_hat|: 12.722477362160589\n",
      "\n",
      "\n",
      "Results for N = 80000\n",
      "Call Option Value -- Monte Carlo: 3.3226498963680924\n",
      "Call Option Value -- BS: 3.3411791913217144\n",
      "sqrt(N)*|C_BS - C_hat|: 5.240876044924713\n",
      "Call Option Delta -- Monte Carlo: 0.5199909278967618\n",
      "Call Option Delta -- BS: 0.5224707292291643\n",
      "sqrt(N)*|delta_C_BS - delta_C_hat|: 0.7013937352548812\n",
      "Call Option Vega -- Monte Carlo: 13.94921590063333\n",
      "Call Option Vega -- BS: 14.028613519226251\n",
      "sqrt(N)*|vega_C_BS - vega_C_hat|: 22.457037806847033\n",
      "\n",
      "\n",
      "Results for N = 160000\n",
      "Call Option Value -- Monte Carlo: 3.316775935022377\n",
      "Call Option Value -- BS: 3.3411791913217144\n",
      "sqrt(N)*|C_BS - C_hat|: 9.761302519734905\n",
      "Call Option Delta -- Monte Carlo: 0.5198789605102522\n",
      "Call Option Delta -- BS: 0.5224707292291643\n",
      "sqrt(N)*|delta_C_BS - delta_C_hat|: 1.0367074875648363\n",
      "Call Option Vega -- Monte Carlo: 13.913044747025936\n",
      "Call Option Vega -- BS: 14.028613519226251\n",
      "sqrt(N)*|vega_C_BS - vega_C_hat|: 46.22750888012632\n",
      "\n",
      "\n",
      "Results for N = 320000\n",
      "Call Option Value -- Monte Carlo: 3.331011161608531\n",
      "Call Option Value -- BS: 3.3411791913217144\n",
      "sqrt(N)*|C_BS - C_hat|: 5.751906209198519\n",
      "Call Option Delta -- Monte Carlo: 0.521274709932118\n",
      "Call Option Delta -- BS: 0.5224707292291643\n",
      "sqrt(N)*|delta_C_BS - delta_C_hat|: 0.6765706842971076\n",
      "Call Option Vega -- Monte Carlo: 13.980155626948344\n",
      "Call Option Vega -- BS: 14.028613519226251\n",
      "sqrt(N)*|vega_C_BS - vega_C_hat|: 27.411923385372525\n",
      "\n",
      "\n",
      "Results for N = 640000\n",
      "Call Option Value -- Monte Carlo: 3.3353879627026393\n",
      "Call Option Value -- BS: 3.3411791913217144\n",
      "sqrt(N)*|C_BS - C_hat|: 4.632982895260085\n",
      "Call Option Delta -- Monte Carlo: 0.5217163707865435\n",
      "Call Option Delta -- BS: 0.5224707292291643\n",
      "sqrt(N)*|delta_C_BS - delta_C_hat|: 0.6034867540965827\n",
      "Call Option Vega -- Monte Carlo: 14.002718711713175\n",
      "Call Option Vega -- BS: 14.028613519226251\n",
      "sqrt(N)*|vega_C_BS - vega_C_hat|: 20.715846010460837\n",
      "\n",
      "\n",
      "Results for N = 1280000\n",
      "Call Option Value -- Monte Carlo: 3.3386761857750016\n",
      "Call Option Value -- BS: 3.3411791913217144\n",
      "sqrt(N)*|C_BS - C_hat|: 2.8318275126850474\n",
      "Call Option Delta -- Monte Carlo: 0.5221972108806219\n",
      "Call Option Delta -- BS: 0.5224707292291643\n",
      "sqrt(N)*|delta_C_BS - delta_C_hat|: 0.3094506864532311\n",
      "Call Option Vega -- Monte Carlo: 14.015254646973126\n",
      "Call Option Vega -- BS: 14.028613519226251\n",
      "sqrt(N)*|vega_C_BS - vega_C_hat|: 15.11383865470325\n",
      "\n",
      "\n",
      "Results for N = 2560000\n",
      "Call Option Value -- Monte Carlo: 3.3354074426822966\n",
      "Call Option Value -- BS: 3.3411791913217144\n",
      "sqrt(N)*|C_BS - C_hat|: 9.23479782306842\n",
      "Call Option Delta -- Monte Carlo: 0.521923034416802\n",
      "Call Option Delta -- BS: 0.5224707292291643\n",
      "sqrt(N)*|delta_C_BS - delta_C_hat|: 0.8763116997796416\n",
      "Call Option Vega -- Monte Carlo: 14.000550728875268\n",
      "Call Option Vega -- BS: 14.028613519226251\n",
      "sqrt(N)*|vega_C_BS - vega_C_hat|: 44.90046456157302\n",
      "\n",
      "\n",
      "Results for N = 5120000\n",
      "Call Option Value -- Monte Carlo: 3.338156360214806\n",
      "Call Option Value -- BS: 3.3411791913217144\n",
      "sqrt(N)*|C_BS - C_hat|: 6.839885997044707\n",
      "Call Option Delta -- Monte Carlo: 0.5222351990241524\n",
      "Call Option Delta -- BS: 0.5224707292291643\n",
      "sqrt(N)*|delta_C_BS - delta_C_hat|: 0.5329440164421063\n",
      "Call Option Vega -- Monte Carlo: 14.013881973844938\n",
      "Call Option Vega -- BS: 14.028613519226251\n",
      "sqrt(N)*|vega_C_BS - vega_C_hat|: 33.333682036747724\n",
      "\n",
      "\n"
     ]
    }
   ],
   "source": [
    "## Table values for #3.\n",
    "\n",
    "## Given values.\n",
    "S0 = 41\n",
    "K = 42\n",
    "sigma = 0.25\n",
    "q = 0.01\n",
    "r = 0.03\n",
    "T = 0.75\n",
    "\n",
    "## Initialize variables. \n",
    "N = 10_000\n",
    "\n",
    "for k in range(10):\n",
    "    z = np.vectorize(inverse_normal_approximation)(linear_congruential_generator(N*(2**k)))\n",
    "    HW1_NUM3(S0, K, T, r, q, sigma, z)"
   ]
  },
  {
   "cell_type": "code",
   "execution_count": 8,
   "id": "4659133c-b806-4e22-961f-c8a4a807fa8e",
   "metadata": {},
   "outputs": [],
   "source": [
    "## Central Finite Difference Formulas\n",
    "def call_delta_estimate_FDM(Si_plus, Si_minus, ds, K, T, r):\n",
    "    \"\"\"Calculate the delta estimate of the European call option at time T using central finite differences.\"\"\"\n",
    "    return (call_payoff(Si_plus, K, T, r) - call_payoff(Si_minus, K, T, r)) / (2 * ds)\n",
    "\n",
    "def call_gamma_estimate_FDM(Si, Si_plus, Si_minus, ds, K, T, r):\n",
    "    \"\"\"Calculate the gamma estimate of the European call option at time T using central finite differences.\"\"\"\n",
    "    return (call_payoff(Si_plus, K, T, r) - 2 * call_payoff(Si, K, T, r) + call_payoff(Si_minus, K, T, r)) / (ds**2)"
   ]
  },
  {
   "cell_type": "code",
   "execution_count": 9,
   "id": "e5237faf-570a-4af7-8627-98c51fe3d320",
   "metadata": {},
   "outputs": [],
   "source": [
    "def HW1_NUM4(S0, K, T, r, q, sigma, z):\n",
    "    ## Initialize variables.\n",
    "    N = len(z)\n",
    "    ds = 0.01\n",
    "\n",
    "    ## Vectorized simulation of spot prices.\n",
    "    Si = simulated_spot(S0, T, r, q, sigma, z)\n",
    "    Si_plus = simulated_spot(S0 + ds, T, r, q, sigma, z)\n",
    "    Si_minus = simulated_spot(S0 - ds, T, r, q, sigma, z)\n",
    "\n",
    "    ## Vectorized calculation for call delta and gamma.\n",
    "    delta_C_array = call_delta_estimate_FDM(Si_plus, Si_minus, ds, K, T, r)\n",
    "    gamma_C_array = call_gamma_estimate_FDM(Si, Si_plus, Si_minus, ds, K, T, r)\n",
    "\n",
    "    ## Monte Carlo estimates.\n",
    "    delta_C_hat = np.mean(delta_C_array)\n",
    "    gamma_C_hat = np.mean(gamma_C_array)\n",
    "\n",
    "    ## Output results:\n",
    "    print(\"Results for N =\", N)\n",
    "    print(\"Call Option Delta -- FDM:\", delta_C_hat)\n",
    "    print(\"Call Option Delta -- BS:\", bs_call_delta(S0, K, T, r, q, sigma))\n",
    "    print(\"sqrt(N)*|delta_C_BS - delta_C_hat|:\", np.sqrt(N) * abs(bs_call_delta(S0, K, T, r, q, sigma) - delta_C_hat))      \n",
    "    print(\"Call Option Gamma -- FDM:\", gamma_C_hat)\n",
    "    print(\"Call Option Gamma -- BS:\", bs_gamma(S0, K, T, r, q, sigma))\n",
    "    print(\"sqrt(N)*|gamma_C_BS - gamma_C_hat|:\", np.sqrt(N) * abs(bs_gamma(S0, K, T, r, q, sigma) - gamma_C_hat))\n",
    "    print(\"\\n\")"
   ]
  },
  {
   "cell_type": "code",
   "execution_count": 10,
   "id": "ac9c12ed-05ec-4985-9f70-dab2b6cff8ba",
   "metadata": {},
   "outputs": [
    {
     "name": "stdout",
     "output_type": "stream",
     "text": [
      "Results for N = 10000\n",
      "Call Option Delta -- FDM: 0.5258801373634344\n",
      "Call Option Delta -- BS: 0.5224707292291643\n",
      "sqrt(N)*|delta_C_BS - delta_C_hat|: 0.3409408134270153\n",
      "Call Option Gamma -- FDM: 0.040142107559633836\n",
      "Call Option Gamma -- BS: 0.04450878768741225\n",
      "sqrt(N)*|gamma_C_BS - gamma_C_hat|: 0.43666801277784173\n",
      "\n",
      "\n",
      "Results for N = 20000\n",
      "Call Option Delta -- FDM: 0.5201133847415125\n",
      "Call Option Delta -- BS: 0.5224707292291643\n",
      "sqrt(N)*|delta_C_BS - delta_C_hat|: 0.33337885456226185\n",
      "Call Option Gamma -- FDM: 0.03176018985925052\n",
      "Call Option Gamma -- BS: 0.04450878768741225\n",
      "sqrt(N)*|gamma_C_BS - gamma_C_hat|: 1.802923994982651\n",
      "\n",
      "\n",
      "Results for N = 40000\n",
      "Call Option Delta -- FDM: 0.520843022678328\n",
      "Call Option Delta -- BS: 0.5224707292291643\n",
      "sqrt(N)*|delta_C_BS - delta_C_hat|: 0.3255413101672433\n",
      "Call Option Gamma -- FDM: 0.028532821474306178\n",
      "Call Option Gamma -- BS: 0.04450878768741225\n",
      "sqrt(N)*|gamma_C_BS - gamma_C_hat|: 3.1951932426212153\n",
      "\n",
      "\n",
      "Results for N = 80000\n",
      "Call Option Delta -- FDM: 0.5199694349702789\n",
      "Call Option Delta -- BS: 0.5224707292291643\n",
      "sqrt(N)*|delta_C_BS - delta_C_hat|: 0.7074728528803229\n",
      "Call Option Gamma -- FDM: 0.03199492670820628\n",
      "Call Option Gamma -- BS: 0.04450878768741225\n",
      "sqrt(N)*|gamma_C_BS - gamma_C_hat|: 3.53945438288891\n",
      "\n",
      "\n",
      "Results for N = 160000\n",
      "Call Option Delta -- FDM: 0.5198755228533775\n",
      "Call Option Delta -- BS: 0.5224707292291643\n",
      "sqrt(N)*|delta_C_BS - delta_C_hat|: 1.0380825503147229\n",
      "Call Option Gamma -- FDM: 0.03903741683429763\n",
      "Call Option Gamma -- BS: 0.04450878768741225\n",
      "sqrt(N)*|gamma_C_BS - gamma_C_hat|: 2.1885483412458493\n",
      "\n",
      "\n",
      "Results for N = 320000\n",
      "Call Option Delta -- FDM: 0.5212703686962379\n",
      "Call Option Delta -- BS: 0.5224707292291643\n",
      "sqrt(N)*|delta_C_BS - delta_C_hat|: 0.6790264581607538\n",
      "Call Option Gamma -- FDM: 0.043804743246388146\n",
      "Call Option Gamma -- BS: 0.04450878768741225\n",
      "sqrt(N)*|gamma_C_BS - gamma_C_hat|: 0.39826767880387076\n",
      "\n",
      "\n",
      "Results for N = 640000\n",
      "Call Option Delta -- FDM: 0.5217071023970299\n",
      "Call Option Delta -- BS: 0.5224707292291643\n",
      "sqrt(N)*|delta_C_BS - delta_C_hat|: 0.6109014657075029\n",
      "Call Option Gamma -- FDM: 0.04275347747013671\n",
      "Call Option Gamma -- BS: 0.04450878768741225\n",
      "sqrt(N)*|gamma_C_BS - gamma_C_hat|: 1.4042481738204327\n",
      "\n",
      "\n",
      "Results for N = 1280000\n",
      "Call Option Delta -- FDM: 0.5221883028813523\n",
      "Call Option Delta -- BS: 0.5224707292291643\n",
      "sqrt(N)*|delta_C_BS - delta_C_hat|: 0.31952893715772646\n",
      "Call Option Gamma -- FDM: 0.04345002465941026\n",
      "Call Option Gamma -- BS: 0.04450878768741225\n",
      "sqrt(N)*|gamma_C_BS - gamma_C_hat|: 1.1978536268316997\n",
      "\n",
      "\n",
      "Results for N = 2560000\n",
      "Call Option Delta -- FDM: 0.521922633637978\n",
      "Call Option Delta -- BS: 0.5224707292291643\n",
      "sqrt(N)*|delta_C_BS - delta_C_hat|: 0.8769529458980685\n",
      "Call Option Gamma -- FDM: 0.044149692081563094\n",
      "Call Option Gamma -- BS: 0.04450878768741225\n",
      "sqrt(N)*|gamma_C_BS - gamma_C_hat|: 0.5745529693586549\n",
      "\n",
      "\n",
      "Results for N = 5120000\n",
      "Call Option Delta -- FDM: 0.522235324858138\n",
      "Call Option Delta -- BS: 0.5224707292291643\n",
      "sqrt(N)*|delta_C_BS - delta_C_hat|: 0.5326592866357173\n",
      "Call Option Gamma -- FDM: 0.043858658492468824\n",
      "Call Option Gamma -- BS: 0.04450878768741225\n",
      "sqrt(N)*|gamma_C_BS - gamma_C_hat|: 1.471074439653918\n",
      "\n",
      "\n"
     ]
    }
   ],
   "source": [
    "## Table values for #4.\n",
    "\n",
    "for k in range(10):\n",
    "    z = np.vectorize(inverse_normal_approximation)(linear_congruential_generator(N*(2**k)))\n",
    "    HW1_NUM4(S0, K, T, r, q, sigma, z)"
   ]
  },
  {
   "cell_type": "code",
   "execution_count": null,
   "id": "f35164ac-2b96-4e48-b8f2-e36ddd644b5c",
   "metadata": {},
   "outputs": [],
   "source": []
  },
  {
   "cell_type": "code",
   "execution_count": null,
   "id": "4c8c6dbe-08ee-4712-ad6e-1d2419d4d934",
   "metadata": {},
   "outputs": [],
   "source": []
  },
  {
   "cell_type": "markdown",
   "id": "1ef1ea79-fa27-4335-bd95-985ca55388b0",
   "metadata": {},
   "source": [
    "Part4 \n",
    "\n",
    "By Zhuo"
   ]
  },
  {
   "cell_type": "code",
   "execution_count": 15,
   "id": "0e96cc67-8e3e-4ae7-b736-07d8683186d4",
   "metadata": {},
   "outputs": [
    {
     "name": "stdout",
     "output_type": "stream",
     "text": [
      "6.6166546586411705\n"
     ]
    }
   ],
   "source": [
    "#1\n",
    "K = 55\n",
    "T = 0.5\n",
    "q = 0\n",
    "S = 50\n",
    "sigma = 0.3\n",
    "r = 0.04\n",
    "\n",
    "p_standard = bs_put(S, K, T, r, q, sigma)\n",
    "print(p_standard)"
   ]
  },
  {
   "cell_type": "code",
   "execution_count": 62,
   "id": "685da740-5cab-4c28-ae44-ed91b8008142",
   "metadata": {},
   "outputs": [],
   "source": [
    "#2.1 Inverse Transform\n",
    "\n",
    "K = 55\n",
    "T = 0.5\n",
    "q = 0\n",
    "S = 50\n",
    "sigma = 0.3\n",
    "r = 0.04\n",
    "\n",
    "V_inv = []\n",
    "err_inv = []\n",
    "\n",
    "for N in [10000*(2**i) for i in range(10)]:\n",
    "    sum_V = 0\n",
    "    U = linear_congruential_generator(N)\n",
    "    for ui in U:\n",
    "        zi = inverse_normal_approximation(ui)\n",
    "        ST = simulated_spot(S, T, r, q, sigma, zi)\n",
    "        p = put_payoff(ST, K, T, r)\n",
    "        sum_V += p\n",
    "    \n",
    "    avr_V = sum_V / N\n",
    "    err = np.abs(avr_V - p_standard)\n",
    "    \n",
    "    V_inv.append(avr_V)\n",
    "    err_inv.append(err)"
   ]
  },
  {
   "cell_type": "code",
   "execution_count": 63,
   "id": "f85a5581-4594-42cb-a5ec-dcefb503b70a",
   "metadata": {},
   "outputs": [
    {
     "data": {
      "text/plain": [
       "[6.600966889896696,\n",
       " 6.65005983715544,\n",
       " 6.6286232380596095,\n",
       " 6.631273814161528,\n",
       " 6.637337664353377,\n",
       " 6.624187704659475,\n",
       " 6.621165769645485,\n",
       " 6.61695870355847,\n",
       " 6.6201137917355375,\n",
       " 6.617663928988656]"
      ]
     },
     "execution_count": 63,
     "metadata": {},
     "output_type": "execute_result"
    }
   ],
   "source": [
    "V_inv"
   ]
  },
  {
   "cell_type": "code",
   "execution_count": 64,
   "id": "1f5087b0-fd66-4673-8a91-f4ade27b402a",
   "metadata": {},
   "outputs": [
    {
     "data": {
      "text/plain": [
       "[0.015687768744474084,\n",
       " 0.033405178514269274,\n",
       " 0.011968579418438985,\n",
       " 0.014619155520357197,\n",
       " 0.020683005712206715,\n",
       " 0.00753304601830429,\n",
       " 0.004511111004314117,\n",
       " 0.00030404491729907335,\n",
       " 0.003459133094366962,\n",
       " 0.001009270347485547]"
      ]
     },
     "execution_count": 64,
     "metadata": {},
     "output_type": "execute_result"
    }
   ],
   "source": [
    "err_inv"
   ]
  },
  {
   "cell_type": "code",
   "execution_count": 2,
   "id": "1ac22b6f-f176-4fc9-8a09-adbd11a4994b",
   "metadata": {},
   "outputs": [],
   "source": [
    "#2.2 Acceptance-Rejection\n",
    "\n",
    "def normal_pdf(x):\n",
    "    return (1/np.sqrt(2*math.pi))*np.exp(-(x**2)/2)\n",
    "\n",
    "def control_function_pdf(x):\n",
    "    \"\"\"\n",
    "    This is the function g(x) that satisfies n(x) <= c*g(x)\n",
    "    where n(x) is normal_pdf\n",
    "    \"\"\"\n",
    "    return 0.5*np.exp(-np.abs(x))\n",
    "\n",
    "def control_function_cdf(x):\n",
    "    \"\"\"\n",
    "    This is the original function of control_function_pdf(x)\n",
    "    \"\"\"\n",
    "    return 1 - 0.5*np.exp(-x) if x>0 else 0.5*np.exp(x)\n",
    "    \n",
    "def inverse_of_control_function_cdf(u):\n",
    "    \"\"\"\n",
    "    This is the inverse function of control_function_cdf(x)\n",
    "    \"\"\"\n",
    "    return math.log(2*u) if u<0.5 else -math.log(2*(1-u))\n",
    "\n",
    "def acceptance_rejection(u1,u2,u3):\n",
    "    x = inverse_of_control_function_cdf(u1)\n",
    "    threshold = normal_pdf(x)/(np.sqrt(2*np.e/np.pi)*control_function_pdf(x))\n",
    "    if u2 <= threshold:\n",
    "        return x if u3>0.5 else -x\n",
    "    else:\n",
    "        return None"
   ]
  },
  {
   "cell_type": "code",
   "execution_count": 82,
   "id": "a32fa46c-42d0-48a2-89e7-77b95c1e3e17",
   "metadata": {
    "tags": []
   },
   "outputs": [],
   "source": [
    "K = 55\n",
    "T = 0.5\n",
    "q = 0\n",
    "S = 50\n",
    "sigma = 0.3\n",
    "r = 0.04\n",
    "\n",
    "N_ar = []\n",
    "V_ar = []\n",
    "err_ar = []\n",
    "\n",
    "for N in [10000*(2**i) for i in range(10)]:\n",
    "    sum_V = 0\n",
    "    U = linear_congruential_generator(N)\n",
    "    count = 0\n",
    "    for i in range(int(N//3)):\n",
    "        u1 = U[3*i]\n",
    "        u2 = U[3*i+1]\n",
    "        u3 = U[3*i+2]\n",
    "        zi = acceptance_rejection(u1,u2,u3)\n",
    "        if zi != None:\n",
    "            count += 1\n",
    "            ST = simulated_spot(S, T, r, q, sigma, zi)\n",
    "            p = put_payoff(ST, K, T, r)\n",
    "            sum_V += p\n",
    "    \n",
    "    avr_V = sum_V / count\n",
    "    err = np.abs(avr_V - p_standard)\n",
    "    \n",
    "    N_ar.append(count)\n",
    "    V_ar.append(avr_V)\n",
    "    err_ar.append(err)"
   ]
  },
  {
   "cell_type": "code",
   "execution_count": 83,
   "id": "ea983aba-cdee-4d9b-9858-b871686411ef",
   "metadata": {
    "tags": []
   },
   "outputs": [
    {
     "data": {
      "text/plain": [
       "[2558, 5096, 10179, 20343, 40645, 81147, 162244, 324315, 649092, 1297513]"
      ]
     },
     "execution_count": 83,
     "metadata": {},
     "output_type": "execute_result"
    }
   ],
   "source": [
    "N_ar"
   ]
  },
  {
   "cell_type": "code",
   "execution_count": 84,
   "id": "603c7e18-0b33-4068-8010-fdb69e8aacbe",
   "metadata": {
    "tags": []
   },
   "outputs": [
    {
     "data": {
      "text/plain": [
       "[6.7061787570511475,\n",
       " 6.69097702416232,\n",
       " 6.6592178426848845,\n",
       " 6.680047309547009,\n",
       " 6.676937356905597,\n",
       " 6.683824334908962,\n",
       " 6.6410514931196,\n",
       " 6.636866999489051,\n",
       " 6.635952641490411,\n",
       " 6.626195282120735]"
      ]
     },
     "execution_count": 84,
     "metadata": {},
     "output_type": "execute_result"
    }
   ],
   "source": [
    "V_ar"
   ]
  },
  {
   "cell_type": "code",
   "execution_count": 85,
   "id": "0a98a453-dc5e-4ce3-90a8-8d5d10d0f508",
   "metadata": {
    "tags": []
   },
   "outputs": [
    {
     "data": {
      "text/plain": [
       "[0.089524098409977,\n",
       " 0.07432236552114979,\n",
       " 0.04256318404371395,\n",
       " 0.0633926509058389,\n",
       " 0.06028269826442667,\n",
       " 0.0671696762677918,\n",
       " 0.024396834478429774,\n",
       " 0.020212340847880483,\n",
       " 0.019297982849240114,\n",
       " 0.009540623479564303]"
      ]
     },
     "execution_count": 85,
     "metadata": {},
     "output_type": "execute_result"
    }
   ],
   "source": [
    "err_ar"
   ]
  },
  {
   "cell_type": "code",
   "execution_count": 54,
   "id": "0e13cc86-1722-460e-9f9a-c10b664008b3",
   "metadata": {
    "tags": []
   },
   "outputs": [],
   "source": [
    "#2.3 Box-Muller\n",
    "def box_muller(u1,u2):\n",
    "    u1 = 2 * u1 - 1\n",
    "    u2 = 2 * u2 - 1\n",
    "    x = u1**2 + u2**2\n",
    "    if x > 1:\n",
    "        return None\n",
    "    y = np.sqrt(-2*math.log(x)/x)\n",
    "    z1 = u1 * y\n",
    "    z2 = u2 * y\n",
    "    return (z1,z2)"
   ]
  },
  {
   "cell_type": "code",
   "execution_count": 67,
   "id": "f98065a4-b6f1-478c-a7cc-69b701bee0ea",
   "metadata": {
    "tags": []
   },
   "outputs": [],
   "source": [
    "K = 55\n",
    "T = 0.5\n",
    "q = 0\n",
    "S = 50\n",
    "sigma = 0.3\n",
    "r = 0.04\n",
    "\n",
    "N_bm = []\n",
    "V_bm = []\n",
    "err_bm = []\n",
    "\n",
    "for N in [10000*(2**i) for i in range(10)]:\n",
    "    sum_V = 0\n",
    "    U = linear_congruential_generator(N)\n",
    "    count = 0\n",
    "    for i in range(int(N/2)):\n",
    "        u1 = U[2*i]\n",
    "        u2 = U[2*i+1]\n",
    "        tup = box_muller(u1,u2)\n",
    "        if tup != None:\n",
    "            zi,zj = tup\n",
    "            count += 2\n",
    "            ST_i = simulated_spot(S, T, r, q, sigma, zi)\n",
    "            p_i = put_payoff(ST_i, K, T, r)\n",
    "            ST_j = simulated_spot(S, T, r, q, sigma, zj)\n",
    "            p_j = put_payoff(ST_j, K, T, r)\n",
    "            sum_V += p_i\n",
    "            sum_V += p_j\n",
    "    \n",
    "    avr_V = sum_V / count\n",
    "    err = np.abs(avr_V - p_standard)\n",
    "    \n",
    "    N_bm.append(count)\n",
    "    V_bm.append(avr_V)\n",
    "    err_bm.append(err)"
   ]
  },
  {
   "cell_type": "code",
   "execution_count": 68,
   "id": "4e4698f7-9d47-440b-a3e2-eb02011e9acb",
   "metadata": {
    "tags": []
   },
   "outputs": [
    {
     "data": {
      "text/plain": [
       "[7874, 15802, 31568, 63000, 125686, 251104, 502436, 1005308, 2010772, 4021944]"
      ]
     },
     "execution_count": 68,
     "metadata": {},
     "output_type": "execute_result"
    }
   ],
   "source": [
    "N_bm"
   ]
  },
  {
   "cell_type": "code",
   "execution_count": 60,
   "id": "bf90096f-9ec0-4f37-b59c-3053ecc98fb9",
   "metadata": {
    "tags": []
   },
   "outputs": [
    {
     "data": {
      "text/plain": [
       "[6.590116351373094,\n",
       " 6.6218709460285305,\n",
       " 6.612632128884412,\n",
       " 6.620227869990987,\n",
       " 6.638893822362429,\n",
       " 6.626780588081058,\n",
       " 6.622501305856176,\n",
       " 6.614827017970649,\n",
       " 6.620640200786578,\n",
       " 6.617100012757516]"
      ]
     },
     "execution_count": 60,
     "metadata": {},
     "output_type": "execute_result"
    }
   ],
   "source": [
    "V_bm"
   ]
  },
  {
   "cell_type": "code",
   "execution_count": 61,
   "id": "0c55247b-e06d-455c-b97d-2be310ed5da7",
   "metadata": {
    "tags": []
   },
   "outputs": [
    {
     "data": {
      "text/plain": [
       "[0.026538307268076267,\n",
       " 0.005216287387360019,\n",
       " 0.004022529756758431,\n",
       " 0.003573211349816141,\n",
       " 0.02223916372125867,\n",
       " 0.010125929439887216,\n",
       " 0.005846647215005163,\n",
       " 0.0018276406705215464,\n",
       " 0.0039855421454078055,\n",
       " 0.00044535411634516464]"
      ]
     },
     "execution_count": 61,
     "metadata": {},
     "output_type": "execute_result"
    }
   ],
   "source": [
    "err_bm"
   ]
  }
 ],
 "metadata": {
  "kernelspec": {
   "display_name": "Python 3 (ipykernel)",
   "language": "python",
   "name": "python3"
  },
  "language_info": {
   "codemirror_mode": {
    "name": "ipython",
    "version": 3
   },
   "file_extension": ".py",
   "mimetype": "text/x-python",
   "name": "python",
   "nbconvert_exporter": "python",
   "pygments_lexer": "ipython3",
   "version": "3.9.12"
  }
 },
 "nbformat": 4,
 "nbformat_minor": 5
}
